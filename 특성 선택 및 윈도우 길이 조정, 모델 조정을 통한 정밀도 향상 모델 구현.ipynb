{
 "cells": [
  {
   "cell_type": "code",
   "execution_count": 32,
   "id": "bc09ea48-14e0-45dc-9caf-b2c3f0e5feeb",
   "metadata": {},
   "outputs": [
    {
     "name": "stdout",
     "output_type": "stream",
     "text": [
      "Requirement already satisfied: tqdm in c:\\users\\campus4d044\\anaconda3\\lib\\site-packages (4.65.0)\n",
      "Requirement already satisfied: colorama in c:\\users\\campus4d044\\anaconda3\\lib\\site-packages (from tqdm) (0.4.6)\n"
     ]
    }
   ],
   "source": [
    "!pip install tqdm"
   ]
  },
  {
   "cell_type": "code",
   "execution_count": 3,
   "id": "544d4cd8-10ac-43a7-bdc6-cb8a7caabe2a",
   "metadata": {},
   "outputs": [],
   "source": [
    "import FinanceDataReader as fdr\n",
    "from sklearn.ensemble import RandomForestClassifier\n",
    "from sklearn.model_selection import GridSearchCV\n",
    "from sklearn.metrics import precision_score"
   ]
  },
  {
   "cell_type": "code",
   "execution_count": 36,
   "id": "6a3d31e3-5766-4d72-92a3-26ebd7b6cdc6",
   "metadata": {},
   "outputs": [
    {
     "name": "stderr",
     "output_type": "stream",
     "text": [
      "  9%|██████▋                                                                        | 150/1758 [01:20<14:18,  1.87it/s]\n"
     ]
    }
   ],
   "source": [
    "from tqdm import tqdm\n",
    "import FinanceDataReader as fdr\n",
    "import pandas as pd\n",
    "\n",
    "for idx, i in enumerate(tqdm(fdr.StockListing(\"KOSDAQ\")['Code'])):\n",
    "    if idx == 150:\n",
    "        break\n",
    "    a = fdr.DataReader(i)\n",
    "\n",
    "    selected_features = a[['Close', 'Volume']].copy()\n",
    "\n",
    "    selected_features.loc[:, 'MA5'] = selected_features['Close'].rolling(window=5).mean()\n",
    "    selected_features.loc[:, 'MA10'] = selected_features['Close'].rolling(window=10).mean()\n",
    "    selected_features.loc[:, 'MA20'] = selected_features['Close'].rolling(window=20).mean()\n",
    "\n",
    "    selected_features.loc[:, 'STD10'] = selected_features['Close'].rolling(window=10).std()\n",
    "    selected_features.loc[:, 'STD20'] = selected_features['Close'].rolling(window=20).std()\n",
    "\n",
    "    selected_features.loc[:, 'Price_Diff'] = selected_features['Close'].shift(1) - selected_features['Close']\n",
    "\n",
    "    selected_features.loc[:, 'Volume_Diff'] = selected_features['Volume'].shift(1) - selected_features['Volume']\n",
    "\n",
    "    selected_features.loc[:, 'Return'] = selected_features['Close'].pct_change()\n",
    "    selected_features.loc[:, 'Volume_Change'] = selected_features['Volume'].pct_change()\n",
    "\n",
    "    selected_features = selected_features.dropna()"
   ]
  },
  {
   "cell_type": "code",
   "execution_count": null,
   "id": "b48da4ed-735a-4ff0-8e8d-189506aa2902",
   "metadata": {},
   "outputs": [],
   "source": [
    "X = selected_features[['Close', 'Volume', 'MA10', 'MA20', 'Return', 'Volume_Change']]\n",
    "y = selected_features['Close'].shift(-1) \n",
    "\n",
    "y = y.dropna()\n",
    "X = X.loc[y.index]"
   ]
  },
  {
   "cell_type": "code",
   "execution_count": null,
   "id": "076439be-90c2-4a03-b371-d7cab0588d3f",
   "metadata": {},
   "outputs": [],
   "source": [
    "from sklearn.model_selection import train_test_split\n",
    "\n",
    "X_train, X_test, y_train, y_test = train_test_split(X, y, test_size=0.2, random_state=42)\n",
    "\n",
    "print(f\"X_train shape: {X_train.shape}, X_test shape: {X_test.shape}\")"
   ]
  },
  {
   "cell_type": "code",
   "execution_count": null,
   "id": "03d6c602-e2ff-422f-b847-92d8c6c407b6",
   "metadata": {},
   "outputs": [],
   "source": [
    "from sklearn.ensemble import RandomForestRegressor\n",
    "from sklearn.model_selection import GridSearchCV\n",
    "\n",
    "\n",
    "model = RandomForestRegressor(random_state=42)\n",
    "\n",
    "\n",
    "params = {\n",
    "    'n_estimators': [100, 300, 500],   \n",
    "    'max_depth': [10, 30, 50],        \n",
    "    'min_samples_split': [2, 5, 10],   \n",
    "    'min_samples_leaf': [1, 2, 4],     \n",
    "    'max_features': ['auto', 'sqrt', 'log2'] \n",
    "}\n",
    "\n",
    "grid_search = GridSearchCV(model, param_grid=params, cv=5, n_jobs=-1, verbose=2)\n",
    "grid_search.fit(X_train, y_train)\n",
    "\n",
    "print(f\"Best Parameters: {grid_search.best_params_}\")"
   ]
  },
  {
   "cell_type": "code",
   "execution_count": null,
   "id": "60fdf8d4-944a-4b77-b84c-e0e738a374a7",
   "metadata": {},
   "outputs": [],
   "source": [
    "import numpy as np\n",
    "\n",
    "y_pred = grid_search.predict(X_test)\n",
    "\n",
    "y_test_binary = np.where(y_test > y_test.shift(1), 1, 0)\n",
    "y_pred_binary = np.where(y_pred > y_test, 1, 0)\n",
    "\n",
    "\n",
    "print(f\"y_test_binary: {y_test_binary[:5]}\")\n",
    "print(f\"y_pred_binary: {y_pred_binary[:5]}\")"
   ]
  },
  {
   "cell_type": "code",
   "execution_count": null,
   "id": "893e9934-0503-486b-848c-c7745a3b0049",
   "metadata": {},
   "outputs": [],
   "source": [
    "from sklearn.metrics import precision_score\n",
    "\n",
    "precision = precision_score(y_test_binary, y_pred_binary)\n",
    "print(f\"Precision: {precision}\")"
   ]
  },
  {
   "cell_type": "code",
   "execution_count": null,
   "id": "3f21dc97-46c5-4328-bdda-5c1a850980ee",
   "metadata": {},
   "outputs": [],
   "source": []
  },
  {
   "cell_type": "code",
   "execution_count": null,
   "id": "4ac0327a-a1ca-47c8-b858-7e83b2928bbd",
   "metadata": {},
   "outputs": [],
   "source": []
  }
 ],
 "metadata": {
  "kernelspec": {
   "display_name": "Python 3 (ipykernel)",
   "language": "python",
   "name": "python3"
  },
  "language_info": {
   "codemirror_mode": {
    "name": "ipython",
    "version": 3
   },
   "file_extension": ".py",
   "mimetype": "text/x-python",
   "name": "python",
   "nbconvert_exporter": "python",
   "pygments_lexer": "ipython3",
   "version": "3.11.7"
  }
 },
 "nbformat": 4,
 "nbformat_minor": 5
}
