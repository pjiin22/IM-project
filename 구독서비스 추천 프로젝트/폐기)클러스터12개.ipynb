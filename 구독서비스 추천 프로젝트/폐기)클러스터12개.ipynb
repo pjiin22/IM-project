{
 "cells": [
  {
   "cell_type": "code",
   "execution_count": 1,
   "id": "1fef7979-b27c-4bb2-8020-2d0fc20be929",
   "metadata": {},
   "outputs": [],
   "source": [
    "import pandas as pd\n",
    "import numpy as np\n",
    "from collections import Counter\n",
    "\n",
    "from sklearn.decomposition import PCA\n",
    "from sklearn.decomposition import TruncatedSVD\n",
    "\n",
    "\n",
    "from sklearn.preprocessing import LabelEncoder\n",
    "from sklearn.preprocessing import StandardScaler\n",
    "from sklearn.preprocessing import MinMaxScaler\n",
    "from sklearn.neighbors import KNeighborsClassifier\n",
    "\n",
    "import matplotlib.pyplot as plt\n",
    "import koreanize_matplotlib\n",
    "import seaborn as sns\n",
    "\n",
    "from sklearn.cluster import KMeans\n",
    "from sklearn.metrics import davies_bouldin_score\n",
    "from sklearn.metrics import silhouette_score\n",
    "\n",
    "import pickle\n",
    "\n",
    "import warnings\n",
    "warnings.filterwarnings('ignore')"
   ]
  },
  {
   "cell_type": "code",
   "execution_count": 2,
   "id": "8cc1617a-8704-4d22-b98a-55b5d8de7193",
   "metadata": {},
   "outputs": [],
   "source": [
    "df = pd.read_csv('df2.csv')"
   ]
  },
  {
   "cell_type": "code",
   "execution_count": 3,
   "id": "8f57635b-eaa1-41e7-9394-8af6e536f532",
   "metadata": {},
   "outputs": [
    {
     "data": {
      "text/html": [
       "<div>\n",
       "<style scoped>\n",
       "    .dataframe tbody tr th:only-of-type {\n",
       "        vertical-align: middle;\n",
       "    }\n",
       "\n",
       "    .dataframe tbody tr th {\n",
       "        vertical-align: top;\n",
       "    }\n",
       "\n",
       "    .dataframe thead th {\n",
       "        text-align: right;\n",
       "    }\n",
       "</style>\n",
       "<table border=\"1\" class=\"dataframe\">\n",
       "  <thead>\n",
       "    <tr style=\"text-align: right;\">\n",
       "      <th></th>\n",
       "      <th>고객ID</th>\n",
       "      <th>최초거래년월</th>\n",
       "      <th>최종거래년월</th>\n",
       "      <th>거래활동기간</th>\n",
       "      <th>거래 연속성 비율</th>\n",
       "      <th>거래 밀도 지수</th>\n",
       "      <th>비활성화 기간 비율</th>\n",
       "      <th>총 거래 공백 개월수</th>\n",
       "      <th>월평균 거래금액</th>\n",
       "      <th>월평균 거래건수</th>\n",
       "      <th>최다가맹점업종명</th>\n",
       "      <th>업종다양성지수</th>\n",
       "      <th>신규유입고객</th>\n",
       "      <th>최다가맹점_광역시도</th>\n",
       "      <th>거래지역다양성지수</th>\n",
       "      <th>총거래금액</th>\n",
       "      <th>총거래건수</th>\n",
       "      <th>승인건수점수</th>\n",
       "      <th>승인금액점수</th>\n",
       "      <th>승인점수</th>\n",
       "    </tr>\n",
       "  </thead>\n",
       "  <tbody>\n",
       "    <tr>\n",
       "      <th>0</th>\n",
       "      <td>2002967708</td>\n",
       "      <td>202312</td>\n",
       "      <td>202312</td>\n",
       "      <td>1</td>\n",
       "      <td>100.00</td>\n",
       "      <td>5.00</td>\n",
       "      <td>0.00</td>\n",
       "      <td>0</td>\n",
       "      <td>210000.00</td>\n",
       "      <td>5.00</td>\n",
       "      <td>대형할인점</td>\n",
       "      <td>2</td>\n",
       "      <td>1</td>\n",
       "      <td>경상북도</td>\n",
       "      <td>2</td>\n",
       "      <td>210000</td>\n",
       "      <td>5.0</td>\n",
       "      <td>1</td>\n",
       "      <td>1</td>\n",
       "      <td>2</td>\n",
       "    </tr>\n",
       "    <tr>\n",
       "      <th>1</th>\n",
       "      <td>2004066711</td>\n",
       "      <td>202312</td>\n",
       "      <td>202312</td>\n",
       "      <td>1</td>\n",
       "      <td>100.00</td>\n",
       "      <td>2.50</td>\n",
       "      <td>0.00</td>\n",
       "      <td>0</td>\n",
       "      <td>40000.00</td>\n",
       "      <td>2.50</td>\n",
       "      <td>대형할인점</td>\n",
       "      <td>1</td>\n",
       "      <td>1</td>\n",
       "      <td>경기도</td>\n",
       "      <td>1</td>\n",
       "      <td>40000</td>\n",
       "      <td>2.5</td>\n",
       "      <td>1</td>\n",
       "      <td>1</td>\n",
       "      <td>2</td>\n",
       "    </tr>\n",
       "    <tr>\n",
       "      <th>2</th>\n",
       "      <td>2004166649</td>\n",
       "      <td>202312</td>\n",
       "      <td>202312</td>\n",
       "      <td>1</td>\n",
       "      <td>100.00</td>\n",
       "      <td>15.00</td>\n",
       "      <td>0.00</td>\n",
       "      <td>0</td>\n",
       "      <td>220000.00</td>\n",
       "      <td>15.00</td>\n",
       "      <td>기타잡화</td>\n",
       "      <td>6</td>\n",
       "      <td>1</td>\n",
       "      <td>경상북도</td>\n",
       "      <td>3</td>\n",
       "      <td>220000</td>\n",
       "      <td>15.0</td>\n",
       "      <td>1</td>\n",
       "      <td>1</td>\n",
       "      <td>2</td>\n",
       "    </tr>\n",
       "    <tr>\n",
       "      <th>3</th>\n",
       "      <td>2004326617</td>\n",
       "      <td>202312</td>\n",
       "      <td>202312</td>\n",
       "      <td>1</td>\n",
       "      <td>100.00</td>\n",
       "      <td>2.50</td>\n",
       "      <td>0.00</td>\n",
       "      <td>0</td>\n",
       "      <td>10000.00</td>\n",
       "      <td>2.50</td>\n",
       "      <td>편 의 점</td>\n",
       "      <td>1</td>\n",
       "      <td>1</td>\n",
       "      <td>경기도</td>\n",
       "      <td>1</td>\n",
       "      <td>10000</td>\n",
       "      <td>2.5</td>\n",
       "      <td>1</td>\n",
       "      <td>1</td>\n",
       "      <td>2</td>\n",
       "    </tr>\n",
       "    <tr>\n",
       "      <th>4</th>\n",
       "      <td>2004432929</td>\n",
       "      <td>202312</td>\n",
       "      <td>202312</td>\n",
       "      <td>1</td>\n",
       "      <td>100.00</td>\n",
       "      <td>5.00</td>\n",
       "      <td>0.00</td>\n",
       "      <td>0</td>\n",
       "      <td>460000.00</td>\n",
       "      <td>5.00</td>\n",
       "      <td>대형할인점</td>\n",
       "      <td>2</td>\n",
       "      <td>1</td>\n",
       "      <td>경기도</td>\n",
       "      <td>2</td>\n",
       "      <td>460000</td>\n",
       "      <td>5.0</td>\n",
       "      <td>1</td>\n",
       "      <td>1</td>\n",
       "      <td>2</td>\n",
       "    </tr>\n",
       "    <tr>\n",
       "      <th>...</th>\n",
       "      <td>...</td>\n",
       "      <td>...</td>\n",
       "      <td>...</td>\n",
       "      <td>...</td>\n",
       "      <td>...</td>\n",
       "      <td>...</td>\n",
       "      <td>...</td>\n",
       "      <td>...</td>\n",
       "      <td>...</td>\n",
       "      <td>...</td>\n",
       "      <td>...</td>\n",
       "      <td>...</td>\n",
       "      <td>...</td>\n",
       "      <td>...</td>\n",
       "      <td>...</td>\n",
       "      <td>...</td>\n",
       "      <td>...</td>\n",
       "      <td>...</td>\n",
       "      <td>...</td>\n",
       "      <td>...</td>\n",
       "    </tr>\n",
       "    <tr>\n",
       "      <th>915212</th>\n",
       "      <td>9999918728</td>\n",
       "      <td>202105</td>\n",
       "      <td>202310</td>\n",
       "      <td>30</td>\n",
       "      <td>43.33</td>\n",
       "      <td>4.23</td>\n",
       "      <td>0.57</td>\n",
       "      <td>17</td>\n",
       "      <td>443076.92</td>\n",
       "      <td>4.23</td>\n",
       "      <td>대형할인점</td>\n",
       "      <td>6</td>\n",
       "      <td>1</td>\n",
       "      <td>대구광역시</td>\n",
       "      <td>1</td>\n",
       "      <td>5760000</td>\n",
       "      <td>55.0</td>\n",
       "      <td>1</td>\n",
       "      <td>1</td>\n",
       "      <td>2</td>\n",
       "    </tr>\n",
       "    <tr>\n",
       "      <th>915213</th>\n",
       "      <td>9999933174</td>\n",
       "      <td>202109</td>\n",
       "      <td>202212</td>\n",
       "      <td>16</td>\n",
       "      <td>43.75</td>\n",
       "      <td>9.29</td>\n",
       "      <td>0.56</td>\n",
       "      <td>9</td>\n",
       "      <td>611428.57</td>\n",
       "      <td>9.29</td>\n",
       "      <td>약 국</td>\n",
       "      <td>14</td>\n",
       "      <td>1</td>\n",
       "      <td>경기도</td>\n",
       "      <td>4</td>\n",
       "      <td>4280000</td>\n",
       "      <td>65.0</td>\n",
       "      <td>2</td>\n",
       "      <td>1</td>\n",
       "      <td>3</td>\n",
       "    </tr>\n",
       "    <tr>\n",
       "      <th>915214</th>\n",
       "      <td>9999972286</td>\n",
       "      <td>202101</td>\n",
       "      <td>202101</td>\n",
       "      <td>1</td>\n",
       "      <td>100.00</td>\n",
       "      <td>2.50</td>\n",
       "      <td>0.00</td>\n",
       "      <td>0</td>\n",
       "      <td>10000.00</td>\n",
       "      <td>2.50</td>\n",
       "      <td>편 의 점</td>\n",
       "      <td>1</td>\n",
       "      <td>0</td>\n",
       "      <td>대구광역시</td>\n",
       "      <td>1</td>\n",
       "      <td>10000</td>\n",
       "      <td>2.5</td>\n",
       "      <td>1</td>\n",
       "      <td>1</td>\n",
       "      <td>2</td>\n",
       "    </tr>\n",
       "    <tr>\n",
       "      <th>915215</th>\n",
       "      <td>9999981183</td>\n",
       "      <td>202101</td>\n",
       "      <td>202211</td>\n",
       "      <td>23</td>\n",
       "      <td>100.00</td>\n",
       "      <td>21.20</td>\n",
       "      <td>0.00</td>\n",
       "      <td>0</td>\n",
       "      <td>371304.35</td>\n",
       "      <td>21.20</td>\n",
       "      <td>일반한식</td>\n",
       "      <td>31</td>\n",
       "      <td>0</td>\n",
       "      <td>경상북도</td>\n",
       "      <td>6</td>\n",
       "      <td>8540000</td>\n",
       "      <td>487.5</td>\n",
       "      <td>3</td>\n",
       "      <td>1</td>\n",
       "      <td>4</td>\n",
       "    </tr>\n",
       "    <tr>\n",
       "      <th>915216</th>\n",
       "      <td>9999998161</td>\n",
       "      <td>202101</td>\n",
       "      <td>202311</td>\n",
       "      <td>35</td>\n",
       "      <td>60.00</td>\n",
       "      <td>8.93</td>\n",
       "      <td>0.40</td>\n",
       "      <td>14</td>\n",
       "      <td>71904.76</td>\n",
       "      <td>8.93</td>\n",
       "      <td>택시</td>\n",
       "      <td>14</td>\n",
       "      <td>0</td>\n",
       "      <td>대구광역시</td>\n",
       "      <td>1</td>\n",
       "      <td>1510000</td>\n",
       "      <td>187.5</td>\n",
       "      <td>2</td>\n",
       "      <td>1</td>\n",
       "      <td>3</td>\n",
       "    </tr>\n",
       "  </tbody>\n",
       "</table>\n",
       "<p>915217 rows × 20 columns</p>\n",
       "</div>"
      ],
      "text/plain": [
       "              고객ID  최초거래년월  최종거래년월  거래활동기간  거래 연속성 비율  거래 밀도 지수  비활성화 기간 비율  \\\n",
       "0       2002967708  202312  202312       1     100.00      5.00        0.00   \n",
       "1       2004066711  202312  202312       1     100.00      2.50        0.00   \n",
       "2       2004166649  202312  202312       1     100.00     15.00        0.00   \n",
       "3       2004326617  202312  202312       1     100.00      2.50        0.00   \n",
       "4       2004432929  202312  202312       1     100.00      5.00        0.00   \n",
       "...            ...     ...     ...     ...        ...       ...         ...   \n",
       "915212  9999918728  202105  202310      30      43.33      4.23        0.57   \n",
       "915213  9999933174  202109  202212      16      43.75      9.29        0.56   \n",
       "915214  9999972286  202101  202101       1     100.00      2.50        0.00   \n",
       "915215  9999981183  202101  202211      23     100.00     21.20        0.00   \n",
       "915216  9999998161  202101  202311      35      60.00      8.93        0.40   \n",
       "\n",
       "        총 거래 공백 개월수   월평균 거래금액  월평균 거래건수 최다가맹점업종명  업종다양성지수  신규유입고객 최다가맹점_광역시도  \\\n",
       "0                 0  210000.00      5.00    대형할인점        2       1       경상북도   \n",
       "1                 0   40000.00      2.50    대형할인점        1       1        경기도   \n",
       "2                 0  220000.00     15.00     기타잡화        6       1       경상북도   \n",
       "3                 0   10000.00      2.50    편 의 점        1       1        경기도   \n",
       "4                 0  460000.00      5.00    대형할인점        2       1        경기도   \n",
       "...             ...        ...       ...      ...      ...     ...        ...   \n",
       "915212           17  443076.92      4.23    대형할인점        6       1      대구광역시   \n",
       "915213            9  611428.57      9.29      약 국       14       1        경기도   \n",
       "915214            0   10000.00      2.50    편 의 점        1       0      대구광역시   \n",
       "915215            0  371304.35     21.20     일반한식       31       0       경상북도   \n",
       "915216           14   71904.76      8.93       택시       14       0      대구광역시   \n",
       "\n",
       "        거래지역다양성지수    총거래금액  총거래건수  승인건수점수  승인금액점수  승인점수  \n",
       "0               2   210000    5.0       1       1     2  \n",
       "1               1    40000    2.5       1       1     2  \n",
       "2               3   220000   15.0       1       1     2  \n",
       "3               1    10000    2.5       1       1     2  \n",
       "4               2   460000    5.0       1       1     2  \n",
       "...           ...      ...    ...     ...     ...   ...  \n",
       "915212          1  5760000   55.0       1       1     2  \n",
       "915213          4  4280000   65.0       2       1     3  \n",
       "915214          1    10000    2.5       1       1     2  \n",
       "915215          6  8540000  487.5       3       1     4  \n",
       "915216          1  1510000  187.5       2       1     3  \n",
       "\n",
       "[915217 rows x 20 columns]"
      ]
     },
     "execution_count": 3,
     "metadata": {},
     "output_type": "execute_result"
    }
   ],
   "source": [
    "df"
   ]
  },
  {
   "cell_type": "markdown",
   "id": "ef9eef81-fb40-4ed6-b20b-339e6f126baf",
   "metadata": {},
   "source": [
    "# 주거래 부거래"
   ]
  },
  {
   "cell_type": "code",
   "execution_count": 4,
   "id": "bba8a695-f502-4177-976e-f85622d34ed2",
   "metadata": {},
   "outputs": [],
   "source": [
    "main = pd.read_csv('주거래.csv')\n",
    "surb = pd.read_csv('부거래.csv')"
   ]
  },
  {
   "cell_type": "code",
   "execution_count": 5,
   "id": "91becb87-b393-4a26-89f3-5a07ada440aa",
   "metadata": {},
   "outputs": [],
   "source": [
    "main['고객상태'] = '1'"
   ]
  },
  {
   "cell_type": "code",
   "execution_count": 6,
   "id": "0b5946de-c38c-4cc0-91eb-a575b11542a5",
   "metadata": {},
   "outputs": [],
   "source": [
    "surb['고객상태'] = '-1'"
   ]
  },
  {
   "cell_type": "code",
   "execution_count": 7,
   "id": "f4c023ad-6221-4756-9b71-6b85988302b5",
   "metadata": {},
   "outputs": [],
   "source": [
    "main = main[['고객ID','고객상태']]"
   ]
  },
  {
   "cell_type": "code",
   "execution_count": 8,
   "id": "3742f56b-b0ea-4f68-8480-a14f60a5713e",
   "metadata": {},
   "outputs": [],
   "source": [
    "surb = surb[['고객ID','고객상태']]"
   ]
  },
  {
   "cell_type": "code",
   "execution_count": 9,
   "id": "fb4d8180-ce51-48dc-af9f-52199bf310df",
   "metadata": {},
   "outputs": [],
   "source": [
    "df = df.merge(main[['고객ID', '고객상태']], on='고객ID', how='left')  # 주거래 기준으로 병합"
   ]
  },
  {
   "cell_type": "code",
   "execution_count": 10,
   "id": "dff10208-6b52-4ddb-bde6-c6d0b613fb39",
   "metadata": {},
   "outputs": [],
   "source": [
    "df = df.merge(surb[['고객ID', '고객상태']], on='고객ID', how='left', suffixes=('_주거래', '_부거래'))"
   ]
  },
  {
   "cell_type": "code",
   "execution_count": 11,
   "id": "e82deac2-99ae-4bee-af7f-e4bbaf9f3ec3",
   "metadata": {},
   "outputs": [],
   "source": [
    "df['고객상태'] = df['고객상태_주거래'].combine_first(df['고객상태_부거래'])"
   ]
  },
  {
   "cell_type": "code",
   "execution_count": 12,
   "id": "bef828c7-2bfa-4b89-bf9e-da0790a71c56",
   "metadata": {},
   "outputs": [],
   "source": [
    "df['고객상태'] = df['고객상태'].fillna(0)"
   ]
  },
  {
   "cell_type": "code",
   "execution_count": 13,
   "id": "7768550f-e110-4a01-842d-28c8eb0dece8",
   "metadata": {},
   "outputs": [
    {
     "data": {
      "text/plain": [
       "array([0, '1', '-1'], dtype=object)"
      ]
     },
     "execution_count": 13,
     "metadata": {},
     "output_type": "execute_result"
    }
   ],
   "source": [
    "df['고객상태'].unique()"
   ]
  },
  {
   "cell_type": "code",
   "execution_count": 14,
   "id": "18037eb6-fcf1-4a28-bdb7-43827b1ab8c7",
   "metadata": {},
   "outputs": [],
   "source": [
    "df = df.drop(columns=['고객상태_주거래', '고객상태_부거래'])"
   ]
  },
  {
   "cell_type": "code",
   "execution_count": 15,
   "id": "f0eccae9-4f83-4c72-92a8-19fe618555f1",
   "metadata": {},
   "outputs": [
    {
     "data": {
      "text/html": [
       "<div>\n",
       "<style scoped>\n",
       "    .dataframe tbody tr th:only-of-type {\n",
       "        vertical-align: middle;\n",
       "    }\n",
       "\n",
       "    .dataframe tbody tr th {\n",
       "        vertical-align: top;\n",
       "    }\n",
       "\n",
       "    .dataframe thead th {\n",
       "        text-align: right;\n",
       "    }\n",
       "</style>\n",
       "<table border=\"1\" class=\"dataframe\">\n",
       "  <thead>\n",
       "    <tr style=\"text-align: right;\">\n",
       "      <th></th>\n",
       "      <th>고객ID</th>\n",
       "      <th>최초거래년월</th>\n",
       "      <th>최종거래년월</th>\n",
       "      <th>거래활동기간</th>\n",
       "      <th>거래 연속성 비율</th>\n",
       "      <th>거래 밀도 지수</th>\n",
       "      <th>비활성화 기간 비율</th>\n",
       "      <th>총 거래 공백 개월수</th>\n",
       "      <th>월평균 거래금액</th>\n",
       "      <th>월평균 거래건수</th>\n",
       "      <th>...</th>\n",
       "      <th>업종다양성지수</th>\n",
       "      <th>신규유입고객</th>\n",
       "      <th>최다가맹점_광역시도</th>\n",
       "      <th>거래지역다양성지수</th>\n",
       "      <th>총거래금액</th>\n",
       "      <th>총거래건수</th>\n",
       "      <th>승인건수점수</th>\n",
       "      <th>승인금액점수</th>\n",
       "      <th>승인점수</th>\n",
       "      <th>고객상태</th>\n",
       "    </tr>\n",
       "  </thead>\n",
       "  <tbody>\n",
       "    <tr>\n",
       "      <th>0</th>\n",
       "      <td>2002967708</td>\n",
       "      <td>202312</td>\n",
       "      <td>202312</td>\n",
       "      <td>1</td>\n",
       "      <td>100.00</td>\n",
       "      <td>5.00</td>\n",
       "      <td>0.00</td>\n",
       "      <td>0</td>\n",
       "      <td>210000.00</td>\n",
       "      <td>5.00</td>\n",
       "      <td>...</td>\n",
       "      <td>2</td>\n",
       "      <td>1</td>\n",
       "      <td>경상북도</td>\n",
       "      <td>2</td>\n",
       "      <td>210000</td>\n",
       "      <td>5.0</td>\n",
       "      <td>1</td>\n",
       "      <td>1</td>\n",
       "      <td>2</td>\n",
       "      <td>0</td>\n",
       "    </tr>\n",
       "    <tr>\n",
       "      <th>1</th>\n",
       "      <td>2004066711</td>\n",
       "      <td>202312</td>\n",
       "      <td>202312</td>\n",
       "      <td>1</td>\n",
       "      <td>100.00</td>\n",
       "      <td>2.50</td>\n",
       "      <td>0.00</td>\n",
       "      <td>0</td>\n",
       "      <td>40000.00</td>\n",
       "      <td>2.50</td>\n",
       "      <td>...</td>\n",
       "      <td>1</td>\n",
       "      <td>1</td>\n",
       "      <td>경기도</td>\n",
       "      <td>1</td>\n",
       "      <td>40000</td>\n",
       "      <td>2.5</td>\n",
       "      <td>1</td>\n",
       "      <td>1</td>\n",
       "      <td>2</td>\n",
       "      <td>0</td>\n",
       "    </tr>\n",
       "    <tr>\n",
       "      <th>2</th>\n",
       "      <td>2004166649</td>\n",
       "      <td>202312</td>\n",
       "      <td>202312</td>\n",
       "      <td>1</td>\n",
       "      <td>100.00</td>\n",
       "      <td>15.00</td>\n",
       "      <td>0.00</td>\n",
       "      <td>0</td>\n",
       "      <td>220000.00</td>\n",
       "      <td>15.00</td>\n",
       "      <td>...</td>\n",
       "      <td>6</td>\n",
       "      <td>1</td>\n",
       "      <td>경상북도</td>\n",
       "      <td>3</td>\n",
       "      <td>220000</td>\n",
       "      <td>15.0</td>\n",
       "      <td>1</td>\n",
       "      <td>1</td>\n",
       "      <td>2</td>\n",
       "      <td>0</td>\n",
       "    </tr>\n",
       "    <tr>\n",
       "      <th>3</th>\n",
       "      <td>2004326617</td>\n",
       "      <td>202312</td>\n",
       "      <td>202312</td>\n",
       "      <td>1</td>\n",
       "      <td>100.00</td>\n",
       "      <td>2.50</td>\n",
       "      <td>0.00</td>\n",
       "      <td>0</td>\n",
       "      <td>10000.00</td>\n",
       "      <td>2.50</td>\n",
       "      <td>...</td>\n",
       "      <td>1</td>\n",
       "      <td>1</td>\n",
       "      <td>경기도</td>\n",
       "      <td>1</td>\n",
       "      <td>10000</td>\n",
       "      <td>2.5</td>\n",
       "      <td>1</td>\n",
       "      <td>1</td>\n",
       "      <td>2</td>\n",
       "      <td>0</td>\n",
       "    </tr>\n",
       "    <tr>\n",
       "      <th>4</th>\n",
       "      <td>2004432929</td>\n",
       "      <td>202312</td>\n",
       "      <td>202312</td>\n",
       "      <td>1</td>\n",
       "      <td>100.00</td>\n",
       "      <td>5.00</td>\n",
       "      <td>0.00</td>\n",
       "      <td>0</td>\n",
       "      <td>460000.00</td>\n",
       "      <td>5.00</td>\n",
       "      <td>...</td>\n",
       "      <td>2</td>\n",
       "      <td>1</td>\n",
       "      <td>경기도</td>\n",
       "      <td>2</td>\n",
       "      <td>460000</td>\n",
       "      <td>5.0</td>\n",
       "      <td>1</td>\n",
       "      <td>1</td>\n",
       "      <td>2</td>\n",
       "      <td>0</td>\n",
       "    </tr>\n",
       "    <tr>\n",
       "      <th>...</th>\n",
       "      <td>...</td>\n",
       "      <td>...</td>\n",
       "      <td>...</td>\n",
       "      <td>...</td>\n",
       "      <td>...</td>\n",
       "      <td>...</td>\n",
       "      <td>...</td>\n",
       "      <td>...</td>\n",
       "      <td>...</td>\n",
       "      <td>...</td>\n",
       "      <td>...</td>\n",
       "      <td>...</td>\n",
       "      <td>...</td>\n",
       "      <td>...</td>\n",
       "      <td>...</td>\n",
       "      <td>...</td>\n",
       "      <td>...</td>\n",
       "      <td>...</td>\n",
       "      <td>...</td>\n",
       "      <td>...</td>\n",
       "      <td>...</td>\n",
       "    </tr>\n",
       "    <tr>\n",
       "      <th>915212</th>\n",
       "      <td>9999918728</td>\n",
       "      <td>202105</td>\n",
       "      <td>202310</td>\n",
       "      <td>30</td>\n",
       "      <td>43.33</td>\n",
       "      <td>4.23</td>\n",
       "      <td>0.57</td>\n",
       "      <td>17</td>\n",
       "      <td>443076.92</td>\n",
       "      <td>4.23</td>\n",
       "      <td>...</td>\n",
       "      <td>6</td>\n",
       "      <td>1</td>\n",
       "      <td>대구광역시</td>\n",
       "      <td>1</td>\n",
       "      <td>5760000</td>\n",
       "      <td>55.0</td>\n",
       "      <td>1</td>\n",
       "      <td>1</td>\n",
       "      <td>2</td>\n",
       "      <td>0</td>\n",
       "    </tr>\n",
       "    <tr>\n",
       "      <th>915213</th>\n",
       "      <td>9999933174</td>\n",
       "      <td>202109</td>\n",
       "      <td>202212</td>\n",
       "      <td>16</td>\n",
       "      <td>43.75</td>\n",
       "      <td>9.29</td>\n",
       "      <td>0.56</td>\n",
       "      <td>9</td>\n",
       "      <td>611428.57</td>\n",
       "      <td>9.29</td>\n",
       "      <td>...</td>\n",
       "      <td>14</td>\n",
       "      <td>1</td>\n",
       "      <td>경기도</td>\n",
       "      <td>4</td>\n",
       "      <td>4280000</td>\n",
       "      <td>65.0</td>\n",
       "      <td>2</td>\n",
       "      <td>1</td>\n",
       "      <td>3</td>\n",
       "      <td>0</td>\n",
       "    </tr>\n",
       "    <tr>\n",
       "      <th>915214</th>\n",
       "      <td>9999972286</td>\n",
       "      <td>202101</td>\n",
       "      <td>202101</td>\n",
       "      <td>1</td>\n",
       "      <td>100.00</td>\n",
       "      <td>2.50</td>\n",
       "      <td>0.00</td>\n",
       "      <td>0</td>\n",
       "      <td>10000.00</td>\n",
       "      <td>2.50</td>\n",
       "      <td>...</td>\n",
       "      <td>1</td>\n",
       "      <td>0</td>\n",
       "      <td>대구광역시</td>\n",
       "      <td>1</td>\n",
       "      <td>10000</td>\n",
       "      <td>2.5</td>\n",
       "      <td>1</td>\n",
       "      <td>1</td>\n",
       "      <td>2</td>\n",
       "      <td>0</td>\n",
       "    </tr>\n",
       "    <tr>\n",
       "      <th>915215</th>\n",
       "      <td>9999981183</td>\n",
       "      <td>202101</td>\n",
       "      <td>202211</td>\n",
       "      <td>23</td>\n",
       "      <td>100.00</td>\n",
       "      <td>21.20</td>\n",
       "      <td>0.00</td>\n",
       "      <td>0</td>\n",
       "      <td>371304.35</td>\n",
       "      <td>21.20</td>\n",
       "      <td>...</td>\n",
       "      <td>31</td>\n",
       "      <td>0</td>\n",
       "      <td>경상북도</td>\n",
       "      <td>6</td>\n",
       "      <td>8540000</td>\n",
       "      <td>487.5</td>\n",
       "      <td>3</td>\n",
       "      <td>1</td>\n",
       "      <td>4</td>\n",
       "      <td>0</td>\n",
       "    </tr>\n",
       "    <tr>\n",
       "      <th>915216</th>\n",
       "      <td>9999998161</td>\n",
       "      <td>202101</td>\n",
       "      <td>202311</td>\n",
       "      <td>35</td>\n",
       "      <td>60.00</td>\n",
       "      <td>8.93</td>\n",
       "      <td>0.40</td>\n",
       "      <td>14</td>\n",
       "      <td>71904.76</td>\n",
       "      <td>8.93</td>\n",
       "      <td>...</td>\n",
       "      <td>14</td>\n",
       "      <td>0</td>\n",
       "      <td>대구광역시</td>\n",
       "      <td>1</td>\n",
       "      <td>1510000</td>\n",
       "      <td>187.5</td>\n",
       "      <td>2</td>\n",
       "      <td>1</td>\n",
       "      <td>3</td>\n",
       "      <td>0</td>\n",
       "    </tr>\n",
       "  </tbody>\n",
       "</table>\n",
       "<p>915217 rows × 21 columns</p>\n",
       "</div>"
      ],
      "text/plain": [
       "              고객ID  최초거래년월  최종거래년월  거래활동기간  거래 연속성 비율  거래 밀도 지수  비활성화 기간 비율  \\\n",
       "0       2002967708  202312  202312       1     100.00      5.00        0.00   \n",
       "1       2004066711  202312  202312       1     100.00      2.50        0.00   \n",
       "2       2004166649  202312  202312       1     100.00     15.00        0.00   \n",
       "3       2004326617  202312  202312       1     100.00      2.50        0.00   \n",
       "4       2004432929  202312  202312       1     100.00      5.00        0.00   \n",
       "...            ...     ...     ...     ...        ...       ...         ...   \n",
       "915212  9999918728  202105  202310      30      43.33      4.23        0.57   \n",
       "915213  9999933174  202109  202212      16      43.75      9.29        0.56   \n",
       "915214  9999972286  202101  202101       1     100.00      2.50        0.00   \n",
       "915215  9999981183  202101  202211      23     100.00     21.20        0.00   \n",
       "915216  9999998161  202101  202311      35      60.00      8.93        0.40   \n",
       "\n",
       "        총 거래 공백 개월수   월평균 거래금액  월평균 거래건수  ... 업종다양성지수  신규유입고객  최다가맹점_광역시도  \\\n",
       "0                 0  210000.00      5.00  ...       2       1        경상북도   \n",
       "1                 0   40000.00      2.50  ...       1       1         경기도   \n",
       "2                 0  220000.00     15.00  ...       6       1        경상북도   \n",
       "3                 0   10000.00      2.50  ...       1       1         경기도   \n",
       "4                 0  460000.00      5.00  ...       2       1         경기도   \n",
       "...             ...        ...       ...  ...     ...     ...         ...   \n",
       "915212           17  443076.92      4.23  ...       6       1       대구광역시   \n",
       "915213            9  611428.57      9.29  ...      14       1         경기도   \n",
       "915214            0   10000.00      2.50  ...       1       0       대구광역시   \n",
       "915215            0  371304.35     21.20  ...      31       0        경상북도   \n",
       "915216           14   71904.76      8.93  ...      14       0       대구광역시   \n",
       "\n",
       "       거래지역다양성지수    총거래금액  총거래건수  승인건수점수  승인금액점수  승인점수  고객상태  \n",
       "0              2   210000    5.0       1       1     2     0  \n",
       "1              1    40000    2.5       1       1     2     0  \n",
       "2              3   220000   15.0       1       1     2     0  \n",
       "3              1    10000    2.5       1       1     2     0  \n",
       "4              2   460000    5.0       1       1     2     0  \n",
       "...          ...      ...    ...     ...     ...   ...   ...  \n",
       "915212         1  5760000   55.0       1       1     2     0  \n",
       "915213         4  4280000   65.0       2       1     3     0  \n",
       "915214         1    10000    2.5       1       1     2     0  \n",
       "915215         6  8540000  487.5       3       1     4     0  \n",
       "915216         1  1510000  187.5       2       1     3     0  \n",
       "\n",
       "[915217 rows x 21 columns]"
      ]
     },
     "execution_count": 15,
     "metadata": {},
     "output_type": "execute_result"
    }
   ],
   "source": [
    "df"
   ]
  },
  {
   "cell_type": "markdown",
   "id": "5f26411e-75dc-4a74-8e02-549925870ef5",
   "metadata": {},
   "source": [
    "# 출장유무"
   ]
  },
  {
   "cell_type": "code",
   "execution_count": 16,
   "id": "80a0cc4f-e789-4b79-82f9-e9d0ec1411ec",
   "metadata": {},
   "outputs": [],
   "source": [
    "data = pd.read_csv('카드고객데이터.csv')"
   ]
  },
  {
   "cell_type": "code",
   "execution_count": 17,
   "id": "f44da0a0-14ca-4965-b345-edb7c163b4ad",
   "metadata": {},
   "outputs": [],
   "source": [
    "problem_businesses = [\n",
    "    \"CATV홈쇼핑\", \"PG상품권\", \"비씨카드 정산용(할인)\", \"비씨카드 정산용가맹점\", \"생명보험\",\n",
    "    \"이동통신요금\", \"인터넷P/G\", \"일반보험(판매)\", \"전기차충전소\", \"전자상거래상품권\", \n",
    "    \"호텔\", \"통신서비스/소득공제대상\", \"통신판매업1\"\n",
    "]\n",
    "\n",
    "data['최다가맹점_광역시도'] = np.where(\n",
    "    data['최다가맹점업종명'].isin(problem_businesses),\n",
    "    data['자택_시도'],\n",
    "    data['최다가맹점_광역시도'])"
   ]
  },
  {
   "cell_type": "code",
   "execution_count": 18,
   "id": "cb92a679-7444-4e25-9878-07f6edd93d7b",
   "metadata": {},
   "outputs": [],
   "source": [
    "data = data[['고객ID','최다가맹점_광역시도','자택_시도','자택_시군구']]"
   ]
  },
  {
   "cell_type": "markdown",
   "id": "c480ff9d-ec39-4719-bd17-596567152b0d",
   "metadata": {},
   "source": [
    "# 잠깐 정리!!"
   ]
  },
  {
   "cell_type": "code",
   "execution_count": 19,
   "id": "f718e1f0-690f-4eeb-a035-1dc92898043c",
   "metadata": {},
   "outputs": [],
   "source": [
    "df = df.merge(data, on =['고객ID','최다가맹점_광역시도'], how = 'inner')"
   ]
  },
  {
   "cell_type": "code",
   "execution_count": 20,
   "id": "f62bc9da-6770-432b-a3e0-39ea282dac6f",
   "metadata": {},
   "outputs": [
    {
     "data": {
      "text/plain": [
       "array(['경상북도', '경기도', '대구광역시', '경상남도', '대전광역시', '서울특별시', '부산광역시', '인천광역시',\n",
       "       '전라남도', '강원특별자치도', '제주특별자치도', '충청남도', '전북특별자치도', '충청북도', '광주광역시',\n",
       "       '울산광역시', '세종특별자치시'], dtype=object)"
      ]
     },
     "execution_count": 20,
     "metadata": {},
     "output_type": "execute_result"
    }
   ],
   "source": [
    "df['최다가맹점_광역시도'].unique()"
   ]
  },
  {
   "cell_type": "code",
   "execution_count": 21,
   "id": "a558798c-e2df-423c-909e-9979a7f0abd7",
   "metadata": {},
   "outputs": [
    {
     "data": {
      "text/plain": [
       "array(['대구광역시', '인천광역시', '경상북도', '경기도', '서울특별시', '경상남도', '대전광역시', '부산광역시',\n",
       "       '울산광역시', '전라남도', '강원특별자치도', '제주특별자치도', '충청남도', '전북특별자치도', '충청북도',\n",
       "       '광주광역시', '세종특별자치시'], dtype=object)"
      ]
     },
     "execution_count": 21,
     "metadata": {},
     "output_type": "execute_result"
    }
   ],
   "source": [
    "df['자택_시도'].unique()"
   ]
  },
  {
   "cell_type": "code",
   "execution_count": 22,
   "id": "e6844fa0-527a-488a-a532-0ab0c65063cd",
   "metadata": {},
   "outputs": [],
   "source": [
    "df['출장여부'] = df['최다가맹점_광역시도'].eq(df['자택_시도']).astype(int)"
   ]
  },
  {
   "cell_type": "code",
   "execution_count": 23,
   "id": "fdb61cd2-083f-479e-9c4a-9d506421c970",
   "metadata": {},
   "outputs": [],
   "source": [
    "df.drop(['최다가맹점_광역시도', '자택_시도', '자택_시군구'], axis=1, inplace=True)"
   ]
  },
  {
   "cell_type": "markdown",
   "id": "e517466d-fd3e-467e-acdd-a81cc049d628",
   "metadata": {},
   "source": [
    "# 전처리"
   ]
  },
  {
   "cell_type": "markdown",
   "id": "d817b832-88d8-4aaa-aa31-1d33854a3ea1",
   "metadata": {},
   "source": [
    "## 오브젝트"
   ]
  },
  {
   "cell_type": "code",
   "execution_count": 24,
   "id": "4e5f9e42-5b9c-4d7c-967b-d84eb89e44f3",
   "metadata": {},
   "outputs": [],
   "source": [
    "category_mapping = {\n",
    " '주유소': [\n",
    "        'SK주유소', 'GS주유소', '쌍용S-OIL', '현대정유(오일뱅크)', 'E1가스충전소', '쌍용S-OIL가스충전소',\n",
    "        'GS가스충전소', '전기차충전소', '현대정유가스충전소', '유류판매', '윤활유전문판매','SK가스충전소','LPG취급점'\n",
    "    ],\n",
    "    '의류판매': ['정장', '스포츠의류', '아동의류', '맞춤복점', '단체복', '내의판매','기타의류'],\n",
    "    '도서/서적': ['일반서적', '전문서적', '기타서적문구'],\n",
    "    '교육': [\n",
    "        '보습학원', '예·체능계학원', '외국어학원', '독서실', '학원', '기타 교육기관',\n",
    "        '초중고교육기관', '학습지교육', '기능학원', '유아원'\n",
    "    ],\n",
    "    '여행/숙박': [\n",
    "        '특급호텔', '콘도', '1급 호텔', '2급 호텔', '기타숙박업', '관광여행'\n",
    "    ],\n",
    "    '대중교통': ['택시', '철도', '고속버스', '여객선'],\n",
    "    '스포츠/레저': [\n",
    "        '기타레져업소', '스포츠·레져용품', '스크린골프', '헬스클럽', '골프연습장', '볼 링 장',\n",
    "        '종합레져타운', '레져업소', '당구장', '수 영 장', '골프경기장', '골프용품 전문점'\n",
    "    ],\n",
    "    '보험': ['생명보험', '손해보험', '기타보험'],\n",
    "    '뷰티/헤어/잡화': [\n",
    "        '미용원', '피부미용실', '이용원', '화장품', '미용재료', '신 발', '기타잡화',\n",
    "        '안경', '액세서리', '가 방', '귀금속', '시 계'\n",
    "    ],\n",
    "    '홈데코/가전': [\n",
    "        '조명기구', '일반가구', '주방용구', '주방용식기', '인테리어전문', '기타가구', '카페트,커튼,천막,지물', '침구·수예점', '가전제품', '안마/스포츠마사지', '냉열기기'\n",
    "    ],\n",
    "    '문구/사무': [\n",
    "        '완구점', '문구용품', '사무서비스', '기타 사무용품', '사무·통신기기수리', '사무용 OA기기'\n",
    "    ],\n",
    "    '자동차/공구': [\n",
    "        '자동차정비', '기계공구', '주차장', '가정용품수리', '자동차부품', '자동차시트·타이어',\n",
    "        '세차장', '이륜차판매', '가타자동차서비스', '기타수리서비스', '보일러·펌프·샷시', '렌터카', '카인테리어'\n",
    "    ],\n",
    "    '건축/자재/농업': [\n",
    "        '옷감·직물', '건축용 요업제품', '페인트', '기타전기제품', '목재·석재·철물',\n",
    "        '기타건축자재', '비료,사료,종자', '기타농업관련', '농기계'\n",
    "    ],\n",
    "    '문화/여가/반려': [\n",
    "        '문화취미기타', '화방·표구점', '영화관', '사우나', '화원', '티켓', '수족관',\n",
    "        '민예·공예품', '동물병원', '애완동물'\n",
    "    ],\n",
    "    '술/유흥': ['주점', '노 래 방', '유흥주점', '단란주점', '칵테일바', '주류판매점'],\n",
    "    '통신': [\n",
    "        '이동통신요금', '통신판매업1', '일반(통신판매)', '통신서비스/소득공제비대상', '통신기기'\n",
    "    ],\n",
    "    '컴퓨터': ['소프트웨어', '컴퓨터'],\n",
    "    '생활': [\n",
    "        '편 의 점', '슈퍼마켓', '정수기', '세탁소', '농협하나로클럽', '농,축협직영매장', '대형할인점',\n",
    "        '구내매점(국가기관등)', '기념품점', '조세서비스', '공공요금대행서비스/소득공제비대상',\n",
    "        '공공요금대행서비스/소득공제대상', '자사카드발행백화점'\n",
    "    ],\n",
    "    '의료/건강': [\n",
    "        '약 국', '의 원', '종합병원', '병 원(응급실운영)', '치과의원', '한 의 원',\n",
    "        '치과병원', '의료용품', '한약방', '한방병원', '건강진단', '기타의료기관 및 기타의료기기'\n",
    "    ],\n",
    "    '식료품': [\n",
    "        '농·축·수산품', '기타음료식품', '기타건강식품', '인삼제품', '홍삼제품',\n",
    "        '농축수산가공품', '스넥', '제과점', '미곡상', '정육점'\n",
    "    ],\n",
    "    '기타': ['기타1', '기타4', '화물운송','DP&E'],\n",
    "    '온라인쇼핑': [\n",
    "        '인터넷P/G', '인터넷Mall','인터넷종합Mall', 'CATV홈쇼핑'\n",
    "    ],\n",
    "    '상품권':['PG상품권', '전자상거래상품권',\n",
    "        '상품권전문판매', '상 품 권'\n",
    "],\n",
    "    '음식점': ['일반한식', '서양음식', '중국식', '일식·회집', '갈비전문점','한정식'],\n",
    "    '기타 서비스업': [\n",
    "        '기타 전문점', '연 쇄 점', '위탁급식업', '업종미등록', '기타유통업', '출판 및 인쇄물',\n",
    "        '가례서비스업', '보관및 창고업', '혼례서비스업', '부동산중개·임대','종합용역', '기타용역서비스', '기타대인서비스'\n",
    "    ],\n",
    "    '비영리' : ['비영리/비대상','비영리/대상'],\n",
    "    '비씨카드 정산': ['비씨카드 정산용가맹점','비씨카드 정산용(할인)']\n",
    "\n",
    "}"
   ]
  },
  {
   "cell_type": "code",
   "execution_count": 25,
   "id": "b38d925b-127d-4542-bd57-fbf0b532932a",
   "metadata": {},
   "outputs": [
    {
     "name": "stdout",
     "output_type": "stream",
     "text": [
      "업종_그룹\n",
      "음식점         292980\n",
      "생활          247108\n",
      "온라인쇼핑        96388\n",
      "기타 서비스업      47661\n",
      "의료/건강        39238\n",
      "식료품          24018\n",
      "주유소          16357\n",
      "보험           14276\n",
      "대중교통         10444\n",
      "교육            8504\n",
      "스포츠/레저        8209\n",
      "통신            6076\n",
      "뷰티/헤어/잡화      4479\n",
      "기타            4121\n",
      "문화/여가/반려      2138\n",
      "자동차/공구        1887\n",
      "의류판매          1747\n",
      "상품권           1717\n",
      "문구/사무         1544\n",
      "홈데코/가전        1394\n",
      "비영리           1302\n",
      "도서/서적          795\n",
      "술/유흥           766\n",
      "여행/숙박          637\n",
      "건축/자재/농업       513\n",
      "컴퓨터            123\n",
      "비씨카드 정산         18\n",
      "Name: count, dtype: int64\n"
     ]
    }
   ],
   "source": [
    "df['업종_그룹'] = df['최다가맹점업종명'].map(\n",
    "    lambda x: next((key for key, values in category_mapping.items() if x in values), '기타')\n",
    ")\n",
    "df.drop('최다가맹점업종명', axis=1, inplace=True)\n",
    "\n",
    "print(df['업종_그룹'].value_counts())"
   ]
  },
  {
   "cell_type": "code",
   "execution_count": 26,
   "id": "4926f391-5621-4317-8fa6-9c431b915733",
   "metadata": {},
   "outputs": [
    {
     "name": "stdout",
     "output_type": "stream",
     "text": [
      "<class 'pandas.core.frame.DataFrame'>\n",
      "RangeIndex: 834440 entries, 0 to 834439\n",
      "Data columns (total 21 columns):\n",
      " #   Column       Non-Null Count   Dtype  \n",
      "---  ------       --------------   -----  \n",
      " 0   고객ID         834440 non-null  int64  \n",
      " 1   최초거래년월       834440 non-null  int64  \n",
      " 2   최종거래년월       834440 non-null  int64  \n",
      " 3   거래활동기간       834440 non-null  int64  \n",
      " 4   거래 연속성 비율    834440 non-null  float64\n",
      " 5   거래 밀도 지수     834440 non-null  float64\n",
      " 6   비활성화 기간 비율   834440 non-null  float64\n",
      " 7   총 거래 공백 개월수  834440 non-null  int64  \n",
      " 8   월평균 거래금액     834440 non-null  float64\n",
      " 9   월평균 거래건수     834440 non-null  float64\n",
      " 10  업종다양성지수      834440 non-null  int64  \n",
      " 11  신규유입고객       834440 non-null  int64  \n",
      " 12  거래지역다양성지수    834440 non-null  int64  \n",
      " 13  총거래금액        834440 non-null  int64  \n",
      " 14  총거래건수        834440 non-null  float64\n",
      " 15  승인건수점수       834440 non-null  int64  \n",
      " 16  승인금액점수       834440 non-null  int64  \n",
      " 17  승인점수         834440 non-null  int64  \n",
      " 18  고객상태         834440 non-null  object \n",
      " 19  출장여부         834440 non-null  int32  \n",
      " 20  업종_그룹        834440 non-null  object \n",
      "dtypes: float64(6), int32(1), int64(12), object(2)\n",
      "memory usage: 130.5+ MB\n"
     ]
    }
   ],
   "source": [
    "df.info()"
   ]
  },
  {
   "cell_type": "code",
   "execution_count": 27,
   "id": "66fef501-9953-4aab-a556-f0a3845e1731",
   "metadata": {},
   "outputs": [],
   "source": [
    "df.to_csv('cluster_data.csv', index=False, encoding='utf-8-sig', float_format='%.2f')"
   ]
  },
  {
   "cell_type": "markdown",
   "id": "74b4f19c-500f-4978-ad55-7f7bcaa3442e",
   "metadata": {},
   "source": [
    "# 문자형"
   ]
  },
  {
   "cell_type": "code",
   "execution_count": 28,
   "id": "cf849a0b-d581-400e-a5eb-4dd6f8c2a090",
   "metadata": {},
   "outputs": [
    {
     "name": "stdout",
     "output_type": "stream",
     "text": [
      "고객상태 스케일링 완료\n"
     ]
    }
   ],
   "source": [
    "label_encoder = LabelEncoder()\n",
    "df['고객상태_encoded'] = label_encoder.fit_transform(df['고객상태'].astype(str))\n",
    "\n",
    "scaler = StandardScaler()\n",
    "df['고객상태_scaled'] = scaler.fit_transform(df[['고객상태_encoded']])\n",
    "\n",
    "print(\"고객상태 스케일링 완료\")"
   ]
  },
  {
   "cell_type": "markdown",
   "id": "ed58d13b-f31f-47ef-826f-5c4bfe5af5d1",
   "metadata": {},
   "source": [
    "## 수치형"
   ]
  },
  {
   "cell_type": "code",
   "execution_count": 29,
   "id": "c302cb00-5ee2-471f-b25c-d9849fa8d6a3",
   "metadata": {},
   "outputs": [],
   "source": [
    "quantitative_features = ['거래활동기간', '거래 연속성 비율', '총거래건수', '총거래금액', '월평균 거래건수']\n",
    "qualitative_features = ['거래지역다양성지수', '업종다양성지수', '출장여부', '고객상태']\n",
    "all_features = quantitative_features + qualitative_features\n",
    "\n",
    "scaler = MinMaxScaler()\n",
    "df_scaled = df.copy() \n",
    "df_scaled[all_features] = scaler.fit_transform(df_scaled[all_features])\n",
    "\n",
    "weights = {\n",
    "    '거래활동기간': 1.5,\n",
    "    '거래 연속성 비율': 1.5,\n",
    "    '총거래건수': 2.0,\n",
    "    '총거래금액': 1.0,\n",
    "    '월평균 거래건수': 2.0,\n",
    "    '거래지역다양성지수': 1.0,\n",
    "    '업종다양성지수': 1.2, \n",
    "    '출장여부' : 1.2,\n",
    "    '고객상태': 1.3 \n",
    "}\n",
    "\n",
    "for feature, weight in weights.items():\n",
    "    df_scaled[feature] *= weight"
   ]
  },
  {
   "cell_type": "markdown",
   "id": "71a3372e-f40d-49da-9209-67411d098661",
   "metadata": {},
   "source": [
    "# 주성분수"
   ]
  },
  {
   "cell_type": "code",
   "execution_count": 30,
   "id": "37a36297-0df0-48ef-bb11-f89afa3f17e4",
   "metadata": {},
   "outputs": [
    {
     "name": "stdout",
     "output_type": "stream",
     "text": [
      "양적 로열티 PCA 설명 분산 비율: [0.62610266 0.3551775 ]\n"
     ]
    }
   ],
   "source": [
    "quantitative_features = ['거래활동기간', '거래 연속성 비율', '총거래건수', '총거래금액', '월평균 거래건수']\n",
    "\n",
    "pca = PCA(n_components=2)\n",
    "quantitative_pca = pca.fit_transform(df_scaled[quantitative_features])\n",
    "\n",
    "df_scaled['양적_PCA_1'] = quantitative_pca[:, 0]\n",
    "df_scaled['양적_PCA_2'] = quantitative_pca[:, 1]\n",
    "\n",
    "print(\"양적 로열티 PCA 설명 분산 비율:\", pca.explained_variance_ratio_)"
   ]
  },
  {
   "cell_type": "code",
   "execution_count": 31,
   "id": "1996d0df-d34e-44f3-92b3-683f703d5b9d",
   "metadata": {},
   "outputs": [
    {
     "name": "stdout",
     "output_type": "stream",
     "text": [
      "질적 로열티 PCA 설명 분산 비율: [0.57269756 0.33709012]\n"
     ]
    }
   ],
   "source": [
    "qualitative_features = ['거래지역다양성지수', '업종다양성지수', '출장여부', '고객상태']\n",
    "\n",
    "pca = PCA(n_components=2)\n",
    "qualitative_pca = pca.fit_transform(df_scaled[qualitative_features])\n",
    "\n",
    "df_scaled['질적_PCA_1'] = qualitative_pca[:, 0]\n",
    "df_scaled['질적_PCA_2'] = qualitative_pca[:, 1]\n",
    "\n",
    "print(\"질적 로열티 PCA 설명 분산 비율:\", pca.explained_variance_ratio_)"
   ]
  },
  {
   "cell_type": "markdown",
   "id": "8e105777-5046-4375-920f-1cbc4685aafb",
   "metadata": {},
   "source": [
    "# 군집수"
   ]
  },
  {
   "cell_type": "markdown",
   "id": "de446521-8aa2-483b-93fb-befe08360f2f",
   "metadata": {},
   "source": [
    "## 엘보우 그래프"
   ]
  },
  {
   "cell_type": "markdown",
   "id": "1fc2c08b-5486-4337-aa68-6b12c001a0d0",
   "metadata": {},
   "source": [
    "### 양적"
   ]
  },
  {
   "cell_type": "code",
   "execution_count": 32,
   "id": "0ff0f76c-b194-42d3-b200-39893f8e7441",
   "metadata": {},
   "outputs": [],
   "source": [
    "wcss = []\n",
    "for i in range(1, 11): \n",
    "    kmeans = KMeans(n_clusters=i, random_state=42)\n",
    "    kmeans.fit(df_scaled[quantitative_features])\n",
    "    wcss.append(kmeans.inertia_)"
   ]
  },
  {
   "cell_type": "code",
   "execution_count": 33,
   "id": "f40ae73f-9000-47cf-9945-7dbc57f3c065",
   "metadata": {},
   "outputs": [
    {
     "data": {
      "image/png": "[encoded data removed]",
      "text/plain": [
       "<Figure size 640x480 with 1 Axes>"
      ]
     },
     "metadata": {},
     "output_type": "display_data"
    }
   ],
   "source": [
    "plt.plot(range(1, 11), wcss, marker='o')\n",
    "plt.title('엘보우 양적 그래프')\n",
    "plt.xlabel('Number of Clusters')\n",
    "plt.ylabel('WCSS')\n",
    "plt.show()"
   ]
  },
  {
   "cell_type": "markdown",
   "id": "e7225501-5a85-4f04-b5d7-06c5816ea4d4",
   "metadata": {},
   "source": [
    "### 질적"
   ]
  },
  {
   "cell_type": "code",
   "execution_count": 34,
   "id": "1b0a7164-cd4a-4867-a341-4cc3ec620d83",
   "metadata": {},
   "outputs": [],
   "source": [
    "wcss_qual = []\n",
    "for i in range(1, 11):\n",
    "    kmeans_qual = KMeans(n_clusters=i, random_state=42)\n",
    "    kmeans_qual.fit(df_scaled[qualitative_features])\n",
    "    wcss_qual.append(kmeans_qual.inertia_)"
   ]
  },
  {
   "cell_type": "code",
   "execution_count": 35,
   "id": "b6013e7e-c8f9-4ae2-84c4-31d362aabe92",
   "metadata": {},
   "outputs": [
    {
     "data": {
      "image/png": "[encoded data removed]",
      "text/plain": [
       "<Figure size 640x480 with 1 Axes>"
      ]
     },
     "metadata": {},
     "output_type": "display_data"
    }
   ],
   "source": [
    "plt.plot(range(1, 11), wcss_qual, marker='o')\n",
    "plt.title('엘보우 질적 그래프')\n",
    "plt.xlabel('Number of Clusters')\n",
    "plt.ylabel('WCSS')\n",
    "plt.show()"
   ]
  },
  {
   "cell_type": "markdown",
   "id": "255b6685-e9da-419d-b756-39206a85663b",
   "metadata": {},
   "source": [
    "## DBI"
   ]
  },
  {
   "cell_type": "code",
   "execution_count": 36,
   "id": "a1e8d0b5-51be-42f6-aee1-6c90d9b390ee",
   "metadata": {},
   "outputs": [
    {
     "name": "stdout",
     "output_type": "stream",
     "text": [
      "양적 로열티 군집 수: 2, Davies-Bouldin Index: 0.8046712482424662\n",
      "양적 로열티 군집 수: 3, Davies-Bouldin Index: 0.6412415454755566\n",
      "양적 로열티 군집 수: 4, Davies-Bouldin Index: 0.7427528230575524\n",
      "양적 로열티 군집 수: 5, Davies-Bouldin Index: 0.7046600654082632\n",
      "양적 로열티 군집 수: 6, Davies-Bouldin Index: 0.7021634569434846\n",
      "양적 로열티 군집 수: 7, Davies-Bouldin Index: 0.750661192453765\n",
      "양적 로열티 군집 수: 8, Davies-Bouldin Index: 0.7898885662922783\n",
      "양적 로열티 군집 수: 9, Davies-Bouldin Index: 0.8155533558516315\n",
      "양적 로열티 군집 수: 10, Davies-Bouldin Index: 0.8167767341470376\n"
     ]
    }
   ],
   "source": [
    "for n_clusters in range(2, 11): \n",
    "    kmeans_quant = KMeans(n_clusters=n_clusters, random_state=42)\n",
    "    cluster_labels = kmeans_quant.fit_predict(df_scaled[quantitative_features])\n",
    "    dbi_score = davies_bouldin_score(df_scaled[quantitative_features], cluster_labels)\n",
    "    print(f\"양적 로열티 군집 수: {n_clusters}, Davies-Bouldin Index: {dbi_score}\")"
   ]
  },
  {
   "cell_type": "code",
   "execution_count": 37,
   "id": "a2585996-3b88-43b9-8a7c-3c176548a51f",
   "metadata": {},
   "outputs": [
    {
     "name": "stdout",
     "output_type": "stream",
     "text": [
      "질적 로열티 군집 수: 2, Davies-Bouldin Index: 0.4762002356378273\n",
      "질적 로열티 군집 수: 3, Davies-Bouldin Index: 0.4209794257242037\n",
      "질적 로열티 군집 수: 4, Davies-Bouldin Index: 0.5396055653221475\n",
      "질적 로열티 군집 수: 5, Davies-Bouldin Index: 0.5503238994221438\n",
      "질적 로열티 군집 수: 6, Davies-Bouldin Index: 0.6467977411257335\n",
      "질적 로열티 군집 수: 7, Davies-Bouldin Index: 0.6812608869751325\n",
      "질적 로열티 군집 수: 8, Davies-Bouldin Index: 0.7028365071997623\n",
      "질적 로열티 군집 수: 9, Davies-Bouldin Index: 0.7417154055581475\n",
      "질적 로열티 군집 수: 10, Davies-Bouldin Index: 0.7730842656993093\n"
     ]
    }
   ],
   "source": [
    "for n_clusters in range(2, 11):  \n",
    "    kmeans_qual = KMeans(n_clusters=n_clusters, random_state=42)\n",
    "    cluster_labels = kmeans_qual.fit_predict(df_scaled[qualitative_features])\n",
    "    dbi_score = davies_bouldin_score(df_scaled[qualitative_features], cluster_labels)\n",
    "    print(f\"질적 로열티 군집 수: {n_clusters}, Davies-Bouldin Index: {dbi_score}\")"
   ]
  },
  {
   "cell_type": "markdown",
   "id": "e61e7821-b619-40fe-8789-44e7f11472b5",
   "metadata": {},
   "source": [
    "# 클러스터링"
   ]
  },
  {
   "cell_type": "code",
   "execution_count": 38,
   "id": "efaec203-efae-4369-8a88-f8983592ec9f",
   "metadata": {},
   "outputs": [],
   "source": [
    "kmeans_quant = KMeans(n_clusters=3, random_state=42)\n",
    "df_scaled['양적로열티_클러스터'] = kmeans_quant.fit_predict(df_scaled[['양적_PCA_1', '양적_PCA_2']])\n",
    "\n",
    "\n",
    "kmeans_qual = KMeans(n_clusters=3, random_state=42)\n",
    "df_scaled['질적로열티_클러스터'] = kmeans_qual.fit_predict(df_scaled[['질적_PCA_1', '질적_PCA_2']])"
   ]
  },
  {
   "cell_type": "code",
   "execution_count": 39,
   "id": "bead53ee-fc55-404c-842b-b004d2d4d646",
   "metadata": {},
   "outputs": [],
   "source": [
    "combined_features = ['양적_PCA_1', '양적_PCA_2', '질적_PCA_1', '질적_PCA_2']\n",
    "pca = PCA(n_components=2)\n",
    "combined_pca = pca.fit_transform(df_scaled[combined_features])\n",
    "\n",
    "df_scaled['혼합_PCA_1'] = combined_pca[:, 0]\n",
    "df_scaled['혼합_PCA_2'] = combined_pca[:, 1]"
   ]
  },
  {
   "cell_type": "markdown",
   "id": "ee840705-7484-4391-9047-ffebe1936af0",
   "metadata": {},
   "source": [
    "# 클러스터링 믹스"
   ]
  },
  {
   "cell_type": "code",
   "execution_count": 40,
   "id": "664bf209-9228-4710-be54-6150a3219a1b",
   "metadata": {},
   "outputs": [],
   "source": [
    "df_scaled['최종_세그먼트'] = (\n",
    "    df_scaled['양적로열티_클러스터'].astype(str) + '-' +\n",
    "    df_scaled['질적로열티_클러스터'].astype(str)\n",
    ")"
   ]
  },
  {
   "cell_type": "code",
   "execution_count": 41,
   "id": "9ccb4186-14e5-4d1f-809c-93c16b8d9eea",
   "metadata": {},
   "outputs": [
    {
     "data": {
      "image/png": "[encoded data removed]",
      "text/plain": [
       "<Figure size 1800x600 with 1 Axes>"
      ]
     },
     "metadata": {},
     "output_type": "display_data"
    }
   ],
   "source": [
    "plt.figure(figsize=(18, 6))\n",
    "sns.countplot(x='최종_세그먼트', data=df_scaled)\n",
    "plt.title(\"혼합 클러스터링 결과: 최종 세그먼트 분포\")\n",
    "plt.xticks(rotation=45)\n",
    "plt.show()"
   ]
  },
  {
   "cell_type": "markdown",
   "id": "9a6171cb-423e-4acd-aa49-10c4adefb659",
   "metadata": {},
   "source": [
    "**평가**"
   ]
  },
  {
   "cell_type": "code",
   "execution_count": 42,
   "id": "df543ff0-99b6-40f2-8e10-e730912bbda7",
   "metadata": {
    "scrolled": true
   },
   "outputs": [
    {
     "name": "stdout",
     "output_type": "stream",
     "text": [
      "최종_세그먼트\n",
      "0-0    219006\n",
      "0-2    187663\n",
      "1-0    161143\n",
      "2-0    152120\n",
      "0-1     47483\n",
      "1-1     36243\n",
      "2-1     30547\n",
      "1-2       184\n",
      "2-2        51\n",
      "Name: count, dtype: int64\n"
     ]
    }
   ],
   "source": [
    "cluster_sizes = df_scaled['최종_세그먼트'].value_counts()\n",
    "print(cluster_sizes)"
   ]
  },
  {
   "cell_type": "code",
   "execution_count": 43,
   "id": "ede93974-045d-4793-a41e-72b35e1ec344",
   "metadata": {},
   "outputs": [
    {
     "name": "stdout",
     "output_type": "stream",
     "text": [
      "샘플링된 데이터의 Silhouette Score: 0.3145876072579697\n"
     ]
    }
   ],
   "source": [
    "sample_data = df_scaled[['혼합_PCA_1', '혼합_PCA_2']].sample(n=10000, random_state=42)\n",
    "sample_labels = df_scaled['최종_세그먼트'].sample(n=10000, random_state=42)\n",
    "\n",
    "silhouette_avg = silhouette_score(sample_data, sample_labels)\n",
    "print(f\"샘플링된 데이터의 Silhouette Score: {silhouette_avg}\")"
   ]
  },
  {
   "cell_type": "markdown",
   "id": "6d0e8fab-72a4-49c8-9ccc-32c5fb43d3e0",
   "metadata": {},
   "source": [
    "# 개같이 수정"
   ]
  },
  {
   "cell_type": "code",
   "execution_count": 44,
   "id": "f8a3626f-3dd2-4653-be65-29fc4ea1a2ed",
   "metadata": {},
   "outputs": [
    {
     "name": "stdout",
     "output_type": "stream",
     "text": [
      "혼합 데이터 군집 수: 7, Davies-Bouldin Index: 0.7666742778575975\n",
      "혼합 데이터 군집 수: 8, Davies-Bouldin Index: 0.729517595247575\n",
      "혼합 데이터 군집 수: 9, Davies-Bouldin Index: 0.7051216069384648\n",
      "혼합 데이터 군집 수: 10, Davies-Bouldin Index: 0.7172088830306953\n",
      "혼합 데이터 군집 수: 11, Davies-Bouldin Index: 0.6893221942105788\n",
      "혼합 데이터 군집 수: 12, Davies-Bouldin Index: 0.7041120535877825\n",
      "혼합 데이터 군집 수: 13, Davies-Bouldin Index: 0.7287596435628763\n",
      "혼합 데이터 군집 수: 14, Davies-Bouldin Index: 0.7576724266905186\n",
      "혼합 데이터 군집 수: 15, Davies-Bouldin Index: 0.7131168804230885\n",
      "혼합 데이터 군집 수: 16, Davies-Bouldin Index: 0.7169034220370436\n",
      "혼합 데이터 군집 수: 17, Davies-Bouldin Index: 0.7452925752179717\n",
      "혼합 데이터 군집 수: 18, Davies-Bouldin Index: 0.7597332031009733\n",
      "혼합 데이터 군집 수: 19, Davies-Bouldin Index: 0.772179241379532\n",
      "혼합 데이터 군집 수: 20, Davies-Bouldin Index: 0.7754550774276616\n",
      "혼합 데이터 군집 수: 21, Davies-Bouldin Index: 0.7977236069748022\n",
      "혼합 데이터 군집 수: 22, Davies-Bouldin Index: 0.8128396098374762\n",
      "혼합 데이터 군집 수: 23, Davies-Bouldin Index: 0.8234512164080465\n",
      "혼합 데이터 군집 수: 24, Davies-Bouldin Index: 0.8256344230029523\n",
      "혼합 데이터 군집 수: 25, Davies-Bouldin Index: 0.8306121182183235\n",
      "혼합 데이터 군집 수: 26, Davies-Bouldin Index: 0.813904350114351\n",
      "혼합 데이터 군집 수: 27, Davies-Bouldin Index: 0.8352301869407361\n",
      "혼합 데이터 군집 수: 28, Davies-Bouldin Index: 0.8114997269998528\n",
      "혼합 데이터 군집 수: 29, Davies-Bouldin Index: 0.814877369604472\n",
      "혼합 데이터 군집 수: 30, Davies-Bouldin Index: 0.8227850142231125\n",
      "혼합 데이터 군집 수: 31, Davies-Bouldin Index: 0.8094486042757676\n"
     ]
    }
   ],
   "source": [
    "combined_features = ['양적_PCA_1', '양적_PCA_2', '질적_PCA_1', '질적_PCA_2']\n",
    "\n",
    "for n_clusters in range(7, 32):\n",
    "    kmeans = KMeans(n_clusters=n_clusters, random_state=42)\n",
    "    cluster_labels = kmeans.fit_predict(df_scaled[combined_features])\n",
    "    dbi = davies_bouldin_score(df_scaled[combined_features], cluster_labels)\n",
    "    print(f\"혼합 데이터 군집 수: {n_clusters}, Davies-Bouldin Index: {dbi}\")"
   ]
  },
  {
   "cell_type": "code",
   "execution_count": null,
   "id": "9ce202e4-86b5-4f78-a14c-048293ef0dd1",
   "metadata": {},
   "outputs": [],
   "source": [
    "optimal_clusters = 11\n",
    "kmeans_combined = KMeans(n_clusters=optimal_clusters, random_state=42)\n",
    "df_scaled['혼합_클러스터'] = kmeans_combined.fit_predict(df_scaled[combined_features])"
   ]
  },
  {
   "cell_type": "code",
   "execution_count": 46,
   "id": "4f252019-1962-46c0-a5ae-eb616c5f99c4",
   "metadata": {},
   "outputs": [
    {
     "name": "stdout",
     "output_type": "stream",
     "text": [
      "샘플링된 데이터의 Silhouette Score: 0.3688904288913854\n"
     ]
    }
   ],
   "source": [
    "def calculate_silhouette_score(df_scaled, pca_columns, segment_column, sample_size=10000):\n",
    "    \"\"\"\n",
    "    샘플링을 사용하여 Silhouette Score를 계산합니다.\n",
    "    \n",
    "    Args:\n",
    "        df_scaled (DataFrame): 클러스터링 결과가 포함된 데이터프레임\n",
    "        pca_columns (list): PCA 컬럼 이름 리스트\n",
    "        segment_column (str): 클러스터링 결과 컬럼 이름\n",
    "        sample_size (int): 샘플링 크기 (기본값: 10000)\n",
    "    \n",
    "    Returns:\n",
    "        float: 샘플링된 데이터의 Silhouette Score\n",
    "    \"\"\"\n",
    "    sample_data = df_scaled[pca_columns].sample(n=min(sample_size, len(df_scaled)), random_state=42)\n",
    "    sample_labels = df_scaled.loc[sample_data.index, segment_column]\n",
    "\n",
    "    silhouette_avg = silhouette_score(sample_data, sample_labels)\n",
    "    return silhouette_avg\n",
    "\n",
    "silhouette_avg = calculate_silhouette_score(\n",
    "    df_scaled,\n",
    "    pca_columns=['혼합_PCA_1', '혼합_PCA_2'],\n",
    "    segment_column='혼합_클러스터',\n",
    "    sample_size=5000 \n",
    ")\n",
    "\n",
    "print(f\"샘플링된 데이터의 Silhouette Score: {silhouette_avg}\")"
   ]
  },
  {
   "cell_type": "markdown",
   "id": "bfe3f1dc-2f5f-4574-9e8f-2a795a787354",
   "metadata": {},
   "source": [
    "# 정해진대로하면 고개이 너무 분류가 안된다. 어떻게 사람을 11개로 분류 하다못해 MBTI도 16개인데 그런이유로 30개로 나눈 후 적당히 합쳐서 할 예정 - 논문참고"
   ]
  },
  {
   "cell_type": "code",
   "execution_count": 47,
   "id": "cc5903ff-163e-46f5-99bb-9362030a1bd1",
   "metadata": {},
   "outputs": [],
   "source": [
    "optimal_clusters = 30\n",
    "kmeans_combined = KMeans(n_clusters=optimal_clusters, random_state=42)\n",
    "df_scaled['혼합_클러스터'] = kmeans_combined.fit_predict(df_scaled[combined_features])"
   ]
  },
  {
   "cell_type": "code",
   "execution_count": 48,
   "id": "b3fe1d7e-7416-4957-ad6c-61014de79393",
   "metadata": {},
   "outputs": [
    {
     "name": "stdout",
     "output_type": "stream",
     "text": [
      "<class 'pandas.core.frame.DataFrame'>\n",
      "RangeIndex: 834440 entries, 0 to 834439\n",
      "Data columns (total 33 columns):\n",
      " #   Column        Non-Null Count   Dtype  \n",
      "---  ------        --------------   -----  \n",
      " 0   고객ID          834440 non-null  int64  \n",
      " 1   최초거래년월        834440 non-null  int64  \n",
      " 2   최종거래년월        834440 non-null  int64  \n",
      " 3   거래활동기간        834440 non-null  float64\n",
      " 4   거래 연속성 비율     834440 non-null  float64\n",
      " 5   거래 밀도 지수      834440 non-null  float64\n",
      " 6   비활성화 기간 비율    834440 non-null  float64\n",
      " 7   총 거래 공백 개월수   834440 non-null  int64  \n",
      " 8   월평균 거래금액      834440 non-null  float64\n",
      " 9   월평균 거래건수      834440 non-null  float64\n",
      " 10  업종다양성지수       834440 non-null  float64\n",
      " 11  신규유입고객        834440 non-null  int64  \n",
      " 12  거래지역다양성지수     834440 non-null  float64\n",
      " 13  총거래금액         834440 non-null  float64\n",
      " 14  총거래건수         834440 non-null  float64\n",
      " 15  승인건수점수        834440 non-null  int64  \n",
      " 16  승인금액점수        834440 non-null  int64  \n",
      " 17  승인점수          834440 non-null  int64  \n",
      " 18  고객상태          834440 non-null  float64\n",
      " 19  출장여부          834440 non-null  float64\n",
      " 20  업종_그룹         834440 non-null  object \n",
      " 21  고객상태_encoded  834440 non-null  int32  \n",
      " 22  고객상태_scaled   834440 non-null  float64\n",
      " 23  양적_PCA_1      834440 non-null  float64\n",
      " 24  양적_PCA_2      834440 non-null  float64\n",
      " 25  질적_PCA_1      834440 non-null  float64\n",
      " 26  질적_PCA_2      834440 non-null  float64\n",
      " 27  양적로열티_클러스터    834440 non-null  int32  \n",
      " 28  질적로열티_클러스터    834440 non-null  int32  \n",
      " 29  혼합_PCA_1      834440 non-null  float64\n",
      " 30  혼합_PCA_2      834440 non-null  float64\n",
      " 31  최종_세그먼트       834440 non-null  object \n",
      " 32  혼합_클러스터       834440 non-null  int32  \n",
      "dtypes: float64(19), int32(4), int64(8), object(2)\n",
      "memory usage: 197.4+ MB\n"
     ]
    }
   ],
   "source": [
    "df_scaled.info()"
   ]
  },
  {
   "cell_type": "code",
   "execution_count": 49,
   "id": "815487c0-8cbf-4210-91be-1efcf6157724",
   "metadata": {
    "scrolled": true
   },
   "outputs": [
    {
     "data": {
      "text/html": [
       "<div>\n",
       "<style scoped>\n",
       "    .dataframe tbody tr th:only-of-type {\n",
       "        vertical-align: middle;\n",
       "    }\n",
       "\n",
       "    .dataframe tbody tr th {\n",
       "        vertical-align: top;\n",
       "    }\n",
       "\n",
       "    .dataframe thead th {\n",
       "        text-align: right;\n",
       "    }\n",
       "</style>\n",
       "<table border=\"1\" class=\"dataframe\">\n",
       "  <thead>\n",
       "    <tr style=\"text-align: right;\">\n",
       "      <th></th>\n",
       "      <th>고객ID</th>\n",
       "      <th>최초거래년월</th>\n",
       "      <th>최종거래년월</th>\n",
       "      <th>거래활동기간</th>\n",
       "      <th>거래 연속성 비율</th>\n",
       "      <th>거래 밀도 지수</th>\n",
       "      <th>비활성화 기간 비율</th>\n",
       "      <th>총 거래 공백 개월수</th>\n",
       "      <th>월평균 거래금액</th>\n",
       "      <th>월평균 거래건수</th>\n",
       "      <th>...</th>\n",
       "      <th>양적_PCA_2</th>\n",
       "      <th>질적_PCA_1</th>\n",
       "      <th>질적_PCA_2</th>\n",
       "      <th>양적로열티_클러스터</th>\n",
       "      <th>질적로열티_클러스터</th>\n",
       "      <th>혼합_PCA_1</th>\n",
       "      <th>혼합_PCA_2</th>\n",
       "      <th>최종_세그먼트</th>\n",
       "      <th>혼합_클러스터</th>\n",
       "      <th>상위_10_업종</th>\n",
       "    </tr>\n",
       "  </thead>\n",
       "  <tbody>\n",
       "    <tr>\n",
       "      <th>0</th>\n",
       "      <td>2002967708</td>\n",
       "      <td>202312</td>\n",
       "      <td>202312</td>\n",
       "      <td>0.0</td>\n",
       "      <td>1.5</td>\n",
       "      <td>5.0</td>\n",
       "      <td>0.0</td>\n",
       "      <td>0</td>\n",
       "      <td>210000.0</td>\n",
       "      <td>0.007359</td>\n",
       "      <td>...</td>\n",
       "      <td>-0.405012</td>\n",
       "      <td>1.075006</td>\n",
       "      <td>0.058126</td>\n",
       "      <td>1</td>\n",
       "      <td>1</td>\n",
       "      <td>1.164707</td>\n",
       "      <td>-0.289922</td>\n",
       "      <td>1-1</td>\n",
       "      <td>16</td>\n",
       "      <td>[음식점, 생활, 기타 서비스업, 온라인쇼핑, 식료품, 보험, 대중교통, 의료/건강...</td>\n",
       "    </tr>\n",
       "    <tr>\n",
       "      <th>1</th>\n",
       "      <td>2004066711</td>\n",
       "      <td>202312</td>\n",
       "      <td>202312</td>\n",
       "      <td>0.0</td>\n",
       "      <td>1.5</td>\n",
       "      <td>2.5</td>\n",
       "      <td>0.0</td>\n",
       "      <td>0</td>\n",
       "      <td>40000.0</td>\n",
       "      <td>0.000000</td>\n",
       "      <td>...</td>\n",
       "      <td>-0.404559</td>\n",
       "      <td>1.085341</td>\n",
       "      <td>0.027075</td>\n",
       "      <td>1</td>\n",
       "      <td>1</td>\n",
       "      <td>1.179159</td>\n",
       "      <td>-0.281366</td>\n",
       "      <td>1-1</td>\n",
       "      <td>16</td>\n",
       "      <td>[음식점, 생활, 기타 서비스업, 온라인쇼핑, 식료품, 보험, 대중교통, 의료/건강...</td>\n",
       "    </tr>\n",
       "    <tr>\n",
       "      <th>2</th>\n",
       "      <td>2004166649</td>\n",
       "      <td>202312</td>\n",
       "      <td>202312</td>\n",
       "      <td>0.0</td>\n",
       "      <td>1.5</td>\n",
       "      <td>15.0</td>\n",
       "      <td>0.0</td>\n",
       "      <td>0</td>\n",
       "      <td>220000.0</td>\n",
       "      <td>0.036794</td>\n",
       "      <td>...</td>\n",
       "      <td>-0.406824</td>\n",
       "      <td>-0.078228</td>\n",
       "      <td>-0.277510</td>\n",
       "      <td>1</td>\n",
       "      <td>0</td>\n",
       "      <td>0.922395</td>\n",
       "      <td>-0.668714</td>\n",
       "      <td>1-0</td>\n",
       "      <td>9</td>\n",
       "      <td>[생활, 음식점, 식료품, 의료/건강, 보험, 주유소, 온라인쇼핑, 스포츠/레저, ...</td>\n",
       "    </tr>\n",
       "    <tr>\n",
       "      <th>3</th>\n",
       "      <td>2004326617</td>\n",
       "      <td>202312</td>\n",
       "      <td>202312</td>\n",
       "      <td>0.0</td>\n",
       "      <td>1.5</td>\n",
       "      <td>2.5</td>\n",
       "      <td>0.0</td>\n",
       "      <td>0</td>\n",
       "      <td>10000.0</td>\n",
       "      <td>0.000000</td>\n",
       "      <td>...</td>\n",
       "      <td>-0.404558</td>\n",
       "      <td>-0.052718</td>\n",
       "      <td>-0.351427</td>\n",
       "      <td>1</td>\n",
       "      <td>0</td>\n",
       "      <td>0.957991</td>\n",
       "      <td>-0.647267</td>\n",
       "      <td>1-0</td>\n",
       "      <td>9</td>\n",
       "      <td>[생활, 음식점, 식료품, 의료/건강, 보험, 주유소, 온라인쇼핑, 스포츠/레저, ...</td>\n",
       "    </tr>\n",
       "    <tr>\n",
       "      <th>4</th>\n",
       "      <td>2004432929</td>\n",
       "      <td>202312</td>\n",
       "      <td>202312</td>\n",
       "      <td>0.0</td>\n",
       "      <td>1.5</td>\n",
       "      <td>5.0</td>\n",
       "      <td>0.0</td>\n",
       "      <td>0</td>\n",
       "      <td>460000.0</td>\n",
       "      <td>0.007359</td>\n",
       "      <td>...</td>\n",
       "      <td>-0.405013</td>\n",
       "      <td>-0.063054</td>\n",
       "      <td>-0.320376</td>\n",
       "      <td>1</td>\n",
       "      <td>0</td>\n",
       "      <td>0.943538</td>\n",
       "      <td>-0.655824</td>\n",
       "      <td>1-0</td>\n",
       "      <td>9</td>\n",
       "      <td>[생활, 음식점, 식료품, 의료/건강, 보험, 주유소, 온라인쇼핑, 스포츠/레저, ...</td>\n",
       "    </tr>\n",
       "  </tbody>\n",
       "</table>\n",
       "<p>5 rows × 34 columns</p>\n",
       "</div>"
      ],
      "text/plain": [
       "         고객ID  최초거래년월  최종거래년월  거래활동기간  거래 연속성 비율  거래 밀도 지수  비활성화 기간 비율  \\\n",
       "0  2002967708  202312  202312     0.0        1.5       5.0         0.0   \n",
       "1  2004066711  202312  202312     0.0        1.5       2.5         0.0   \n",
       "2  2004166649  202312  202312     0.0        1.5      15.0         0.0   \n",
       "3  2004326617  202312  202312     0.0        1.5       2.5         0.0   \n",
       "4  2004432929  202312  202312     0.0        1.5       5.0         0.0   \n",
       "\n",
       "   총 거래 공백 개월수  월평균 거래금액  월평균 거래건수  ...  양적_PCA_2  질적_PCA_1  질적_PCA_2  \\\n",
       "0            0  210000.0  0.007359  ... -0.405012  1.075006  0.058126   \n",
       "1            0   40000.0  0.000000  ... -0.404559  1.085341  0.027075   \n",
       "2            0  220000.0  0.036794  ... -0.406824 -0.078228 -0.277510   \n",
       "3            0   10000.0  0.000000  ... -0.404558 -0.052718 -0.351427   \n",
       "4            0  460000.0  0.007359  ... -0.405013 -0.063054 -0.320376   \n",
       "\n",
       "   양적로열티_클러스터  질적로열티_클러스터  혼합_PCA_1  혼합_PCA_2  최종_세그먼트  혼합_클러스터  \\\n",
       "0           1           1  1.164707 -0.289922      1-1       16   \n",
       "1           1           1  1.179159 -0.281366      1-1       16   \n",
       "2           1           0  0.922395 -0.668714      1-0        9   \n",
       "3           1           0  0.957991 -0.647267      1-0        9   \n",
       "4           1           0  0.943538 -0.655824      1-0        9   \n",
       "\n",
       "                                            상위_10_업종  \n",
       "0  [음식점, 생활, 기타 서비스업, 온라인쇼핑, 식료품, 보험, 대중교통, 의료/건강...  \n",
       "1  [음식점, 생활, 기타 서비스업, 온라인쇼핑, 식료품, 보험, 대중교통, 의료/건강...  \n",
       "2  [생활, 음식점, 식료품, 의료/건강, 보험, 주유소, 온라인쇼핑, 스포츠/레저, ...  \n",
       "3  [생활, 음식점, 식료품, 의료/건강, 보험, 주유소, 온라인쇼핑, 스포츠/레저, ...  \n",
       "4  [생활, 음식점, 식료품, 의료/건강, 보험, 주유소, 온라인쇼핑, 스포츠/레저, ...  \n",
       "\n",
       "[5 rows x 34 columns]"
      ]
     },
     "execution_count": 49,
     "metadata": {},
     "output_type": "execute_result"
    }
   ],
   "source": [
    "top10_industries = (\n",
    "    df_scaled.groupby('혼합_클러스터')['업종_그룹']\n",
    "    .value_counts()\n",
    "    .groupby(level=0)\n",
    "    .head(10)  \n",
    "    .reset_index(name='count') \n",
    ")\n",
    "\n",
    "top10_industries_aggregated = (\n",
    "    top10_industries.groupby('혼합_클러스터')['업종_그룹']\n",
    "    .apply(lambda x: x.tolist())  \n",
    "    .reset_index(name='상위_10_업종')  \n",
    ")\n",
    "\n",
    "df_scaled = df_scaled.merge(top10_industries_aggregated, on='혼합_클러스터', how='left')\n",
    "\n",
    "df_scaled.head()"
   ]
  },
  {
   "cell_type": "code",
   "execution_count": 50,
   "id": "705af915-9d31-45cc-9fd0-1047904fa31b",
   "metadata": {},
   "outputs": [],
   "source": [
    "import numpy as np\n",
    "from sklearn.metrics import jaccard_score\n",
    "from itertools import combinations\n",
    "\n",
    "def weighted_jaccard(list1, list2, max_weight=1.0):\n",
    "    weights1 = np.linspace(max_weight, 0, len(list1), endpoint=False)\n",
    "    weights2 = np.linspace(max_weight, 0, len(list2), endpoint=False)\n",
    "    \n",
    "    set1 = set(list1)\n",
    "    set2 = set(list2)\n",
    "    \n",
    "    intersection = set1 & set2\n",
    "    union = set1 | set2\n",
    "    \n",
    "    weight_sum = sum([weights1[list1.index(item)] if item in list1 else 0 for item in intersection]) + \\\n",
    "                 sum([weights2[list2.index(item)] if item in list2 else 0 for item in intersection])\n",
    "    union_sum = sum(weights1) + sum(weights2) - weight_sum\n",
    "    \n",
    "    return weight_sum / union_sum if union_sum > 0 else 0\n",
    "\n",
    "def merge_clusters(df, target_clusters=20, max_weight=1.0):\n",
    "    clusters = df['혼합_클러스터'].unique().tolist()\n",
    "    cluster_representations = {c: df[df['혼합_클러스터'] == c]['상위_10_업종'].iloc[0] for c in clusters}\n",
    "    \n",
    "    while len(clusters) > target_clusters:\n",
    "        max_similarity = -1\n",
    "        merge_pair = None\n",
    "\n",
    "        for cluster1, cluster2 in combinations(clusters, 2):\n",
    "            similarity = weighted_jaccard(\n",
    "                cluster_representations[cluster1],\n",
    "                cluster_representations[cluster2],\n",
    "                max_weight=max_weight\n",
    "            )\n",
    "            if similarity > max_similarity:\n",
    "                max_similarity = similarity\n",
    "                merge_pair = (cluster1, cluster2)\n",
    "        \n",
    "        if merge_pair:\n",
    "            c1, c2 = merge_pair\n",
    "            new_cluster = f\"{c1}_{c2}\"  \n",
    "            \n",
    "            merged_representation = list(set(cluster_representations[c1] + cluster_representations[c2]))\n",
    "            merged_representation.sort(key=lambda x: (\n",
    "                -max(\n",
    "                    cluster_representations[c1].index(x) if x in cluster_representations[c1] else float('inf'),\n",
    "                    cluster_representations[c2].index(x) if x in cluster_representations[c2] else float('inf')\n",
    "                )\n",
    "            ))\n",
    "            \n",
    "            cluster_representations[new_cluster] = merged_representation\n",
    "            clusters.remove(c1)\n",
    "            clusters.remove(c2)\n",
    "            clusters.append(new_cluster)\n",
    "            df.loc[df['혼합_클러스터'].isin([c1, c2]), '혼합_클러스터'] = new_cluster\n",
    "\n",
    "    return df\n",
    "\n",
    "df_scaled = merge_clusters(df_scaled, target_clusters=20, max_weight=1.0)"
   ]
  },
  {
   "cell_type": "code",
   "execution_count": 51,
   "id": "fad73549-2670-4dda-8bce-1ca30f75fbcb",
   "metadata": {},
   "outputs": [
    {
     "name": "stdout",
     "output_type": "stream",
     "text": [
      "최종 클러스터 개수: 20\n"
     ]
    }
   ],
   "source": [
    "num_clusters = df_scaled['혼합_클러스터'].nunique()\n",
    "print(f\"최종 클러스터 개수: {num_clusters}\")"
   ]
  },
  {
   "cell_type": "code",
   "execution_count": 52,
   "id": "4d8c93d6-71d1-4dad-bc84-f19e69725b9c",
   "metadata": {},
   "outputs": [
    {
     "name": "stdout",
     "output_type": "stream",
     "text": [
      "혼합_클러스터\n",
      "19_24_7_13_0    148595\n",
      "3               102642\n",
      "20               74693\n",
      "12               72040\n",
      "9                69184\n",
      "28               43145\n",
      "17_1             42617\n",
      "15_5             37479\n",
      "26_22            34297\n",
      "16_4             32385\n",
      "14               31149\n",
      "18_8             26410\n",
      "11               25932\n",
      "2_25             24329\n",
      "23               21242\n",
      "29               15366\n",
      "10               10539\n",
      "27                8801\n",
      "6                 7825\n",
      "21                5770\n",
      "Name: count, dtype: int64\n"
     ]
    }
   ],
   "source": [
    "cluster_distribution = df_scaled['혼합_클러스터'].value_counts()\n",
    "print(cluster_distribution)"
   ]
  },
  {
   "cell_type": "code",
   "execution_count": 62,
   "id": "11526adf-6a5a-4636-b527-a362f629f93f",
   "metadata": {},
   "outputs": [
    {
     "data": {
      "text/plain": [
       "혼합_클러스터\n",
       "0         [음식점, 생활, 온라인쇼핑, 의료/건강, 교육, 식료품, 기타 서비스업, 주유소, 대중교통, 스포츠/레저]\n",
       "1             [음식점, 생활, 온라인쇼핑, 의료/건강, 식료품, 대중교통, 보험, 주유소, 통신, 기타 서비스업]\n",
       "2                [음식점, 온라인쇼핑, 생활, 의료/건강, 식료품, 주유소, 스포츠/레저, 통신, 보험, 기타]\n",
       "3               [생활, 음식점, 온라인쇼핑, 기타 서비스업, 의료/건강, 주유소, 교육, 보험, 통신, 식료품]\n",
       "4        [생활, 음식점, 식료품, 의료/건강, 보험, 주유소, 온라인쇼핑, 스포츠/레저, 뷰티/헤어/잡화, 대중교통]\n",
       "5             [음식점, 생활, 온라인쇼핑, 기타 서비스업, 의료/건강, 주유소, 통신, 식료품, 보험, 대중교통]\n",
       "6         [음식점, 생활, 온라인쇼핑, 의료/건강, 식료품, 기타 서비스업, 주유소, 대중교통, 스포츠/레저, 교육]\n",
       "7         [음식점, 생활, 온라인쇼핑, 의료/건강, 식료품, 기타 서비스업, 주유소, 대중교통, 스포츠/레저, 교육]\n",
       "8         [음식점, 생활, 온라인쇼핑, 의료/건강, 식료품, 기타 서비스업, 주유소, 대중교통, 스포츠/레저, 교육]\n",
       "9         [음식점, 생활, 기타 서비스업, 온라인쇼핑, 식료품, 보험, 대중교통, 의료/건강, 주유소, 스포츠/레저]\n",
       "10        [생활, 음식점, 온라인쇼핑, 의료/건강, 기타 서비스업, 식료품, 주유소, 대중교통, 교육, 스포츠/레저]\n",
       "11        [음식점, 생활, 기타 서비스업, 온라인쇼핑, 식료품, 의료/건강, 대중교통, 주유소, 스포츠/레저, 보험]\n",
       "12            [기타 서비스업, 음식점, 생활, 보험, 온라인쇼핑, 의료/건강, 주유소, 대중교통, 비영리, 교육]\n",
       "13            [음식점, 생활, 보험, 의료/건강, 온라인쇼핑, 대중교통, 주유소, 식료품, 기타 서비스업, 기타]\n",
       "14            [생활, 음식점, 온라인쇼핑, 의료/건강, 교육, 기타 서비스업, 식료품, 주유소, 통신, 대중교통]\n",
       "15    [생활, 음식점, 식료품, 주유소, 의료/건강, 온라인쇼핑, 보험, 스포츠/레저, 기타 서비스업, 뷰티/헤어/잡화]\n",
       "16            [기타 서비스업, 음식점, 생활, 온라인쇼핑, 의료/건강, 통신, 보험, 대중교통, 식료품, 주유소]\n",
       "17             [음식점, 생활, 온라인쇼핑, 의료/건강, 식료품, 대중교통, 주유소, 스포츠/레저, 통신, 보험]\n",
       "18            [음식점, 생활, 기타 서비스업, 온라인쇼핑, 식료품, 통신, 주유소, 의료/건강, 대중교통, 보험]\n",
       "19        [음식점, 생활, 기타 서비스업, 온라인쇼핑, 대중교통, 의료/건강, 보험, 스포츠/레저, 식료품, 주유소]\n",
       "Name: 상위_10_업종, dtype: object"
      ]
     },
     "execution_count": 62,
     "metadata": {},
     "output_type": "execute_result"
    }
   ],
   "source": [
    "import pandas as pd\n",
    "\n",
    "pd.set_option('display.max_colwidth', None) \n",
    "\n",
    "representative_industries = (\n",
    "    df_scaled.groupby('혼합_클러스터')['상위_10_업종']\n",
    "    .first()\n",
    ")\n",
    "\n",
    "representative_industries"
   ]
  },
  {
   "cell_type": "code",
   "execution_count": 54,
   "id": "5c9e41fb-1207-4590-9f01-76f1a35b4547",
   "metadata": {},
   "outputs": [
    {
     "name": "stdout",
     "output_type": "stream",
     "text": [
      "자카드 유사도 기반으로 병합 후 Silhouette Score: 0.1396921014228422\n"
     ]
    }
   ],
   "source": [
    "def calculate_silhouette_score_after_merge(df_scaled, pca_columns, segment_column, sample_size=10000):\n",
    "    \"\"\"\n",
    "    자카드 유사도로 병합한 결과를 기반으로 Silhouette Score를 계산합니다.\n",
    "    \n",
    "    Args:\n",
    "        df_scaled (DataFrame): 클러스터링 결과가 포함된 데이터프레임 (병합 후)\n",
    "        pca_columns (list): PCA 컬럼 이름 리스트\n",
    "        segment_column (str): 병합된 클러스터 결과 컬럼 이름\n",
    "        sample_size (int): 샘플링 크기 (기본값: 10000)\n",
    "    \n",
    "    Returns:\n",
    "        float: 샘플링된 데이터의 Silhouette Score\n",
    "    \"\"\"\n",
    "    df_scaled[segment_column] = df_scaled[segment_column].astype(str)\n",
    "\n",
    "    sample_data = df_scaled[pca_columns].sample(n=min(sample_size, len(df_scaled)), random_state=42)\n",
    "    sample_labels = df_scaled.loc[sample_data.index, segment_column]\n",
    "\n",
    "    silhouette_avg = silhouette_score(sample_data, sample_labels)\n",
    "    return silhouette_avg\n",
    "\n",
    "silhouette_avg_after_merge = calculate_silhouette_score_after_merge(\n",
    "    df_scaled,\n",
    "    pca_columns=['혼합_PCA_1', '혼합_PCA_2'],  \n",
    "    segment_column='혼합_클러스터',  \n",
    "    sample_size=5000 \n",
    ")\n",
    "\n",
    "print(f\"자카드 유사도 기반으로 병합 후 Silhouette Score: {silhouette_avg_after_merge}\")"
   ]
  },
  {
   "cell_type": "code",
   "execution_count": 55,
   "id": "ceeeffbb-762d-4792-89fe-8b1224ae0944",
   "metadata": {},
   "outputs": [
    {
     "name": "stdout",
     "output_type": "stream",
     "text": [
      "혼합_클러스터\n",
      "0     148595\n",
      "1     102642\n",
      "2      74693\n",
      "3      72040\n",
      "4      69184\n",
      "5      43145\n",
      "6      42617\n",
      "7      37479\n",
      "8      34297\n",
      "9      32385\n",
      "10     31149\n",
      "11     26410\n",
      "12     25932\n",
      "13     24329\n",
      "14     21242\n",
      "15     15366\n",
      "16     10539\n",
      "17      8801\n",
      "18      7825\n",
      "19      5770\n",
      "Name: count, dtype: int64\n"
     ]
    }
   ],
   "source": [
    "def redefine_clusters(df, cluster_column):\n",
    "    \"\"\"\n",
    "    클러스터 이름을 0부터 N까지, 클러스터 크기 순으로 재정의합니다.\n",
    "    \n",
    "    Args:\n",
    "        df (DataFrame): 클러스터링 결과가 포함된 데이터프레임\n",
    "        cluster_column (str): 클러스터 컬럼 이름\n",
    "        \n",
    "    Returns:\n",
    "        DataFrame: 클러스터 이름이 재정의된 데이터프레임\n",
    "    \"\"\"\n",
    "    cluster_sizes = df[cluster_column].value_counts().sort_values(ascending=False)\n",
    "    \n",
    "    cluster_mapping = {old_cluster: new_cluster for new_cluster, old_cluster in enumerate(cluster_sizes.index)}\n",
    "    \n",
    "    df[cluster_column] = df[cluster_column].map(cluster_mapping)\n",
    "    \n",
    "    return df\n",
    "\n",
    "df_scaled = redefine_clusters(df_scaled, '혼합_클러스터')\n",
    "\n",
    "print(df_scaled['혼합_클러스터'].value_counts())"
   ]
  },
  {
   "cell_type": "markdown",
   "id": "39ad0421-6c50-43ce-932d-2f11a781baff",
   "metadata": {},
   "source": [
    "# 추천시스템"
   ]
  },
  {
   "cell_type": "code",
   "execution_count": 58,
   "id": "ef64673f-9d08-4b10-9c6a-7940d6b6f96a",
   "metadata": {},
   "outputs": [],
   "source": [
    "features = ['거래활동기간', '월평균 거래건수', '총거래금액', '월평균 거래금액', '고객상태']\n",
    "X = df_scaled[features] \n",
    "y = df_scaled['혼합_클러스터'] \n",
    "\n",
    "scaler = StandardScaler()\n",
    "X_scaled = scaler.fit_transform(X)\n",
    "\n",
    "knn = KNeighborsClassifier(n_neighbors=5)\n",
    "knn.fit(X_scaled, y)\n",
    "\n",
    "def get_top_merchants(cluster_data):\n",
    "    \"\"\"\n",
    "    클러스터 내 최다 빈도 상위 10개 업종 반환\n",
    "    \"\"\"\n",
    "    return ', '.join(\n",
    "        cluster_data['상위_10_업종'] \n",
    "        .explode() \n",
    "        .value_counts() \n",
    "        .index[:10] \n",
    "    )\n",
    "\n",
    "cluster_top_merchants = (\n",
    "    df_scaled.groupby('혼합_클러스터')  \n",
    "    .apply(get_top_merchants)  \n",
    "    .reset_index(name='Top_10_Merchants')  \n",
    ")\n",
    "\n",
    "def recommend_for_new_customer(new_customer_data):\n",
    "    \"\"\"\n",
    "    새로운 고객 데이터를 받아 군집을 예측하고 해당 군집의 상위 10개 업종 추천\n",
    "    \"\"\"\n",
    "    scaled_new_data = scaler.transform([new_customer_data]) \n",
    "    predicted_cluster = knn.predict(scaled_new_data)[0]  \n",
    "    return cluster_top_merchants.loc[\n",
    "        cluster_top_merchants['혼합_클러스터'] == predicted_cluster,  \n",
    "        'Top_10_Merchants'\n",
    "    ].values[0]"
   ]
  },
  {
   "cell_type": "markdown",
   "id": "14835556-67fb-489d-a636-b9a11cdccde3",
   "metadata": {},
   "source": [
    "# 추천시스템 저장"
   ]
  },
  {
   "cell_type": "code",
   "execution_count": 59,
   "id": "ce98996c-f395-4bf9-813d-97c032578b8c",
   "metadata": {},
   "outputs": [
    {
     "name": "stdout",
     "output_type": "stream",
     "text": [
      "추천 시스템 데이터와 모델 저장 완료!\n"
     ]
    }
   ],
   "source": [
    "import pickle\n",
    "\n",
    "with open('recommendation_system.pkl', 'wb') as f:\n",
    "    pickle.dump({'knn': knn, 'scaler': scaler, 'cluster_top_merchants': cluster_top_merchants}, f)\n",
    "\n",
    "print(\"추천 시스템 데이터와 모델 저장 완료!\")"
   ]
  },
  {
   "cell_type": "code",
   "execution_count": null,
   "id": "44ee03ed-4a69-49c0-8e19-9e14444bc341",
   "metadata": {},
   "outputs": [],
   "source": []
  }
 ],
 "metadata": {
  "kernelspec": {
   "display_name": "Python 3 (ipykernel)",
   "language": "python",
   "name": "python3"
  },
  "language_info": {
   "codemirror_mode": {
    "name": "ipython",
    "version": 3
   },
   "file_extension": ".py",
   "mimetype": "text/x-python",
   "name": "python",
   "nbconvert_exporter": "python",
   "pygments_lexer": "ipython3",
   "version": "3.11.7"
  }
 },
 "nbformat": 4,
 "nbformat_minor": 5
}
