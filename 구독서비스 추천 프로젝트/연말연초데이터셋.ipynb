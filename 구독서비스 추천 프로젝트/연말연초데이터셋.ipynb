{
 "cells": [
  {
   "cell_type": "markdown",
   "id": "c21b45b2-9294-44ac-9984-0ff820a1abb6",
   "metadata": {},
   "source": [
    "**참고**\\\n",
    "21년도 데이터는 EDA_card에서 진행한 후 데이터를 가져옴"
   ]
  },
  {
   "cell_type": "code",
   "execution_count": 3,
   "id": "3c7f367a-f058-4e1d-be81-59d39a6fb2d2",
   "metadata": {},
   "outputs": [],
   "source": [
    "first_21  = pd.read_csv('21년연초.csv')"
   ]
  },
  {
   "cell_type": "code",
   "execution_count": 6,
   "id": "a79c4a7f-3f86-40b6-b57a-a80b92074527",
   "metadata": {},
   "outputs": [],
   "source": [
    "last_21  = pd.read_csv('21년연말.csv')"
   ]
  },
  {
   "cell_type": "code",
   "execution_count": 8,
   "id": "f19a76fa-0ef7-49e7-9ea6-c9f8ffdb3c76",
   "metadata": {},
   "outputs": [],
   "source": [
    "normal_21 = pd.read_csv('21년보통.csv')"
   ]
  },
  {
   "cell_type": "markdown",
   "id": "be2cca72-5455-4600-a922-1da6aed0a8df",
   "metadata": {},
   "source": [
    "--------------------------------------"
   ]
  },
  {
   "cell_type": "code",
   "execution_count": 3,
   "id": "c51f4b7e-763d-4d67-9a24-f70a868fa23c",
   "metadata": {},
   "outputs": [],
   "source": [
    "import dask.dataframe as dd\n",
    "import pandas as pd\n",
    "import matplotlib.pyplot as plt\n",
    "import koreanize_matplotlib\n",
    "import numpy as np\n",
    "from collections import Counter\n",
    "from wordcloud import WordCloud\n",
    "\n",
    "import warnings\n",
    "warnings.filterwarnings('ignore')"
   ]
  },
  {
   "cell_type": "markdown",
   "id": "73b88dd1-1ddf-4b8f-b511-a6d65ae625b7",
   "metadata": {},
   "source": [
    "--------------------------------------"
   ]
  },
  {
   "cell_type": "code",
   "execution_count": 4,
   "id": "09297cb6-8480-4721-917a-f29602b04fb2",
   "metadata": {},
   "outputs": [],
   "source": [
    "card2022 = dd.read_csv(r'훈련생 전달용\\iMBANK_CARD_DATA_2022(K-DigitalTraining)\\iMBANK_CARD_DATA_2022(K-DigitalTraining).csv', encoding = 'cp949')\n",
    "card2023 = dd.read_csv(r'훈련생 전달용\\iMBANK_CARD_DATA_2023(K-DigitalTraining)\\iMBANK_CARD_DATA_2023(K-DigitalTraining).csv', encoding = 'cp949')"
   ]
  },
  {
   "cell_type": "code",
   "execution_count": 12,
   "id": "2ccf6296-b9ea-4ee5-8844-330183a79094",
   "metadata": {},
   "outputs": [],
   "source": [
    "df2 = card2022.compute()"
   ]
  },
  {
   "cell_type": "code",
   "execution_count": 5,
   "id": "6db059b4-9623-44ef-be29-b51429e63ce6",
   "metadata": {},
   "outputs": [],
   "source": [
    "df3 = card2023.compute()"
   ]
  },
  {
   "cell_type": "markdown",
   "id": "4fdb125e-9e45-4342-a6f2-0fb3eb39990d",
   "metadata": {},
   "source": [
    "--------------------------------------"
   ]
  },
  {
   "cell_type": "markdown",
   "id": "0be786d2-559e-4d23-bb53-c1c79b1a307a",
   "metadata": {},
   "source": [
    "## 2022"
   ]
  },
  {
   "cell_type": "code",
   "execution_count": 25,
   "id": "fe65a0b8-00b8-4476-852e-8d496aee2c3f",
   "metadata": {},
   "outputs": [],
   "source": [
    "df2['거래년월'] = pd.to_datetime(df2['거래년월'], format='%Y%m')\n",
    "yearfirst2 = df2[df2['거래년월'].isin([pd.Timestamp('2021-01-01'), pd.Timestamp('2022-02-01')])][['거래년월', '가맹점업종명']]\n",
    "freq_first2 = Counter(yearfirst2['가맹점업종명'])"
   ]
  },
  {
   "cell_type": "code",
   "execution_count": 26,
   "id": "601a00bf-0eab-4509-83ce-e56260ede64a",
   "metadata": {},
   "outputs": [],
   "source": [
    "freq_first_df2 = pd.DataFrame(freq_first2.items(), columns=['단어', '빈도'])\n",
    "freq_first_df_sorted2 = freq_first_df2.sort_values(by='빈도', ascending=False)"
   ]
  },
  {
   "cell_type": "code",
   "execution_count": 27,
   "id": "e71d0c30-fa8c-4191-be0e-c30970f959cd",
   "metadata": {},
   "outputs": [],
   "source": [
    "freq_first_df_sorted2.to_csv('22년연초.csv', encoding='utf-8', index=False)"
   ]
  },
  {
   "cell_type": "markdown",
   "id": "702f61c1-28e2-4738-bca3-1857991bce4d",
   "metadata": {},
   "source": [
    "--------------------------------------"
   ]
  },
  {
   "cell_type": "code",
   "execution_count": 28,
   "id": "37c680fe-9d2b-435e-8926-b6aa132f2721",
   "metadata": {},
   "outputs": [],
   "source": [
    "df2['거래년월'] = pd.to_datetime(df2['거래년월'], format='%Y%m')\n",
    "yearlast2 = df2[df2['거래년월'].isin([pd.Timestamp('2022-12-01'), pd.Timestamp('2021-12-01')])][['거래년월', '가맹점업종명']]\n",
    "freq_last2 = Counter(yearlast2['가맹점업종명'])"
   ]
  },
  {
   "cell_type": "code",
   "execution_count": 29,
   "id": "86bf337c-1b31-4f0f-9176-767808bcbb35",
   "metadata": {},
   "outputs": [],
   "source": [
    "freq_last_df2 = pd.DataFrame(freq_last2.items(), columns=['단어', '빈도'])\n",
    "freq_last_df_sorted2 = freq_last_df2.sort_values(by='빈도', ascending=False)"
   ]
  },
  {
   "cell_type": "code",
   "execution_count": 30,
   "id": "96669c80-7eab-4e86-a0b7-c0caf3e06b70",
   "metadata": {},
   "outputs": [],
   "source": [
    "freq_last_df_sorted2.to_csv('22년연말.csv', encoding='utf-8', index=False)"
   ]
  },
  {
   "cell_type": "markdown",
   "id": "927c467c-152b-438f-9a2f-0ea15d094539",
   "metadata": {},
   "source": [
    "--------------------------------------"
   ]
  },
  {
   "cell_type": "code",
   "execution_count": 31,
   "id": "1b2f0306-65ce-4ea9-8df7-a801b67d4b8e",
   "metadata": {},
   "outputs": [],
   "source": [
    "df2['거래년월'] = pd.to_datetime(df2['거래년월'], format='%Y%m')\n",
    "normal2 = df2[df2['거래년월'].isin([pd.Timestamp('2022-03-01'), pd.Timestamp('2022-10-01')])][['거래년월', '가맹점업종명']]"
   ]
  },
  {
   "cell_type": "code",
   "execution_count": 32,
   "id": "eaed8e2e-c365-49e2-a2ac-5c326a2b57d9",
   "metadata": {},
   "outputs": [],
   "source": [
    "freq_n2 = Counter(normal2['가맹점업종명'])\n",
    "freq_n_df2 = pd.DataFrame(freq_n2.items(), columns=['단어', '빈도'])\n",
    "freq_n_df_sorted2 = freq_n_df2.sort_values(by='빈도', ascending=False)"
   ]
  },
  {
   "cell_type": "code",
   "execution_count": 34,
   "id": "3fd04b77-b67e-414c-8355-c36984135f59",
   "metadata": {},
   "outputs": [],
   "source": [
    "freq_n_df_sorted2.to_csv('22년보통.csv', encoding='utf-8', index=False)"
   ]
  },
  {
   "cell_type": "markdown",
   "id": "62189546-0a15-4318-8d64-d350d42dded9",
   "metadata": {},
   "source": [
    "# 2023"
   ]
  },
  {
   "cell_type": "code",
   "execution_count": 6,
   "id": "3931e917-06f7-459d-bc10-f48787d86167",
   "metadata": {},
   "outputs": [],
   "source": [
    "df3['거래년월'] = pd.to_datetime(df3['거래년월'], format='%Y%m')\n",
    "yearfirst3 = df3[df3['거래년월'].isin([pd.Timestamp('2021-01-01'), pd.Timestamp('2022-02-01')])][['거래년월', '가맹점업종명']]\n",
    "freq_first3 = Counter(yearfirst3['가맹점업종명'])"
   ]
  },
  {
   "cell_type": "code",
   "execution_count": 7,
   "id": "390aa685-0bc7-48cf-a721-46377c629340",
   "metadata": {},
   "outputs": [],
   "source": [
    "freq_first_df3 = pd.DataFrame(freq_first3.items(), columns=['단어', '빈도'])\n",
    "freq_first_df_sorted3 = freq_first_df3.sort_values(by='빈도', ascending=False)"
   ]
  },
  {
   "cell_type": "code",
   "execution_count": 8,
   "id": "8b62cce2-068d-4aeb-8cd0-9d5e5027937b",
   "metadata": {},
   "outputs": [],
   "source": [
    "freq_first_df_sorted3.to_csv('23년연초.csv', encoding='utf-8', index=False)"
   ]
  },
  {
   "cell_type": "markdown",
   "id": "d36d663b-ca01-457e-b8c8-ce3e8abaf31e",
   "metadata": {},
   "source": [
    "--------------------------------------"
   ]
  },
  {
   "cell_type": "code",
   "execution_count": 9,
   "id": "b1533778-c964-4531-a319-0d8f3bf6d6e9",
   "metadata": {},
   "outputs": [],
   "source": [
    "yearlast3 = df3[df3['거래년월'].isin([pd.Timestamp('2022-12-01'), pd.Timestamp('2021-12-01')])][['거래년월', '가맹점업종명']]\n",
    "freq_last3 = Counter(yearlast3['가맹점업종명'])"
   ]
  },
  {
   "cell_type": "code",
   "execution_count": 10,
   "id": "b7634790-3397-44e7-95ab-6b7474332db3",
   "metadata": {},
   "outputs": [],
   "source": [
    "freq_last_df3 = pd.DataFrame(freq_last3.items(), columns=['단어', '빈도'])\n",
    "freq_last_df_sorted3 = freq_last_df3.sort_values(by='빈도', ascending=False)"
   ]
  },
  {
   "cell_type": "code",
   "execution_count": 11,
   "id": "222d4f98-c42c-4580-91c1-0e094129181a",
   "metadata": {},
   "outputs": [],
   "source": [
    "freq_last_df_sorted3.to_csv('23년연말.csv', encoding='utf-8', index=False)"
   ]
  },
  {
   "cell_type": "markdown",
   "id": "05c4ba17-3915-41d7-baac-f92b11e9da84",
   "metadata": {},
   "source": [
    "--------------------------------------"
   ]
  },
  {
   "cell_type": "code",
   "execution_count": 12,
   "id": "78d411df-5d92-4849-a4fe-7edd1b0f0da2",
   "metadata": {},
   "outputs": [],
   "source": [
    "normal3 = df3[df3['거래년월'].isin([pd.Timestamp('2022-03-01'), pd.Timestamp('2022-10-01')])][['거래년월', '가맹점업종명']]"
   ]
  },
  {
   "cell_type": "code",
   "execution_count": 13,
   "id": "61992930-ada2-4a02-b03b-28675108bd5f",
   "metadata": {},
   "outputs": [],
   "source": [
    "freq_n3 = Counter(normal3['가맹점업종명'])\n",
    "freq_n_df3 = pd.DataFrame(freq_n3.items(), columns=['단어', '빈도'])\n",
    "freq_n_df_sorted3 = freq_n_df3.sort_values(by='빈도', ascending=False)"
   ]
  },
  {
   "cell_type": "code",
   "execution_count": 14,
   "id": "bd9a7169-e3a1-49a9-9214-d8cb19f08c6d",
   "metadata": {},
   "outputs": [],
   "source": [
    "freq_n_df_sorted3.to_csv('23년보통.csv', encoding='utf-8', index=False)"
   ]
  },
  {
   "cell_type": "markdown",
   "id": "46dccdd4-6882-43c6-b479-2cddfcaa628c",
   "metadata": {},
   "source": [
    "--------------------------------------"
   ]
  },
  {
   "cell_type": "markdown",
   "id": "edb70be1-4c8d-4099-8e53-3553c13e551a",
   "metadata": {},
   "source": [
    "## 연말"
   ]
  },
  {
   "cell_type": "code",
   "execution_count": 15,
   "id": "5177c134-8ea7-4705-9101-89e29bce2802",
   "metadata": {},
   "outputs": [],
   "source": [
    "last_21  = pd.read_csv('21년연말.csv')"
   ]
  },
  {
   "cell_type": "code",
   "execution_count": 16,
   "id": "d72efbe5-9d18-4e7c-a6bb-5097032d55c7",
   "metadata": {},
   "outputs": [],
   "source": [
    "last_22 = pd.read_csv(\"22년연말.csv\")"
   ]
  },
  {
   "cell_type": "code",
   "execution_count": 17,
   "id": "d57ae8a1-274e-47e0-92a7-fe764fb05280",
   "metadata": {},
   "outputs": [],
   "source": [
    "last_23 = pd.read_csv(\"23년연말.csv\")"
   ]
  },
  {
   "cell_type": "code",
   "execution_count": 19,
   "id": "c7ead246-cae6-41f7-baef-5d429fb0c826",
   "metadata": {},
   "outputs": [],
   "source": [
    "df_last = pd.concat([last_21, last_22, last_23])"
   ]
  },
  {
   "cell_type": "code",
   "execution_count": 26,
   "id": "7820d073-5f7c-48ef-881d-b3683cd1d7c2",
   "metadata": {},
   "outputs": [],
   "source": [
    "df_last = df_last.groupby('단어', as_index=False)['빈도'].sum().sort_values(by='빈도', ascending=False)"
   ]
  },
  {
   "cell_type": "code",
   "execution_count": 27,
   "id": "2dfaccc9-2817-4b32-a997-03aec6f2b0d9",
   "metadata": {},
   "outputs": [
    {
     "data": {
      "text/html": [
       "<div>\n",
       "<style scoped>\n",
       "    .dataframe tbody tr th:only-of-type {\n",
       "        vertical-align: middle;\n",
       "    }\n",
       "\n",
       "    .dataframe tbody tr th {\n",
       "        vertical-align: top;\n",
       "    }\n",
       "\n",
       "    .dataframe thead th {\n",
       "        text-align: right;\n",
       "    }\n",
       "</style>\n",
       "<table border=\"1\" class=\"dataframe\">\n",
       "  <thead>\n",
       "    <tr style=\"text-align: right;\">\n",
       "      <th></th>\n",
       "      <th>단어</th>\n",
       "      <th>빈도</th>\n",
       "    </tr>\n",
       "  </thead>\n",
       "  <tbody>\n",
       "    <tr>\n",
       "      <th>142</th>\n",
       "      <td>일반한식</td>\n",
       "      <td>2272864</td>\n",
       "    </tr>\n",
       "    <tr>\n",
       "      <th>136</th>\n",
       "      <td>인터넷P/G</td>\n",
       "      <td>1475532</td>\n",
       "    </tr>\n",
       "    <tr>\n",
       "      <th>187</th>\n",
       "      <td>편 의 점</td>\n",
       "      <td>1300075</td>\n",
       "    </tr>\n",
       "    <tr>\n",
       "      <th>93</th>\n",
       "      <td>서양음식</td>\n",
       "      <td>1258382</td>\n",
       "    </tr>\n",
       "    <tr>\n",
       "      <th>100</th>\n",
       "      <td>슈퍼마켓</td>\n",
       "      <td>1256225</td>\n",
       "    </tr>\n",
       "    <tr>\n",
       "      <th>...</th>\n",
       "      <td>...</td>\n",
       "      <td>...</td>\n",
       "    </tr>\n",
       "    <tr>\n",
       "      <th>123</th>\n",
       "      <td>위성방송</td>\n",
       "      <td>464</td>\n",
       "    </tr>\n",
       "    <tr>\n",
       "      <th>176</th>\n",
       "      <td>캐주얼의류</td>\n",
       "      <td>424</td>\n",
       "    </tr>\n",
       "    <tr>\n",
       "      <th>2</th>\n",
       "      <td>CATV</td>\n",
       "      <td>378</td>\n",
       "    </tr>\n",
       "    <tr>\n",
       "      <th>81</th>\n",
       "      <td>부동산중개·임대</td>\n",
       "      <td>321</td>\n",
       "    </tr>\n",
       "    <tr>\n",
       "      <th>44</th>\n",
       "      <td>기타서적문구</td>\n",
       "      <td>304</td>\n",
       "    </tr>\n",
       "  </tbody>\n",
       "</table>\n",
       "<p>203 rows × 2 columns</p>\n",
       "</div>"
      ],
      "text/plain": [
       "           단어       빈도\n",
       "142      일반한식  2272864\n",
       "136    인터넷P/G  1475532\n",
       "187     편 의 점  1300075\n",
       "93       서양음식  1258382\n",
       "100      슈퍼마켓  1256225\n",
       "..        ...      ...\n",
       "123      위성방송      464\n",
       "176     캐주얼의류      424\n",
       "2        CATV      378\n",
       "81   부동산중개·임대      321\n",
       "44     기타서적문구      304\n",
       "\n",
       "[203 rows x 2 columns]"
      ]
     },
     "execution_count": 27,
     "metadata": {},
     "output_type": "execute_result"
    }
   ],
   "source": [
    "df_last"
   ]
  },
  {
   "cell_type": "code",
   "execution_count": 28,
   "id": "e41553ea-4824-46c9-8d59-8c0b5fd4b264",
   "metadata": {},
   "outputs": [],
   "source": [
    "df_last.to_csv('연말업종빈도.csv', encoding='utf-8', index=False)"
   ]
  },
  {
   "cell_type": "markdown",
   "id": "cc5e12ab-87bd-4d1b-95f3-ba0bef32c985",
   "metadata": {},
   "source": [
    "## 연초"
   ]
  },
  {
   "cell_type": "code",
   "execution_count": 29,
   "id": "22e517e7-08ad-4185-8e32-23f2b93ffca1",
   "metadata": {},
   "outputs": [],
   "source": [
    "first_21  = pd.read_csv('21년연초.csv')\n",
    "first_22 = pd.read_csv(\"22년연초.csv\")\n",
    "first_23 = pd.read_csv(\"23년연초.csv\")"
   ]
  },
  {
   "cell_type": "code",
   "execution_count": 30,
   "id": "fffb400c-8a1f-4291-bf70-df06fea485a4",
   "metadata": {},
   "outputs": [],
   "source": [
    "df_first = pd.concat([first_21, first_22, first_23])\n",
    "df_first = df_first.groupby('단어', as_index=False)['빈도'].sum().sort_values(by='빈도', ascending=False)"
   ]
  },
  {
   "cell_type": "code",
   "execution_count": 31,
   "id": "75e348a8-3f2a-4427-bb65-e9b1992a35c6",
   "metadata": {},
   "outputs": [],
   "source": [
    "df_first.to_csv('연초업종빈도.csv', encoding='utf-8', index=False)"
   ]
  },
  {
   "cell_type": "markdown",
   "id": "bee8dd5b-99a2-4d99-97e1-28e84b4d525a",
   "metadata": {},
   "source": [
    "## 보통"
   ]
  },
  {
   "cell_type": "code",
   "execution_count": 32,
   "id": "63876527-f116-48c9-a9aa-c925276c8507",
   "metadata": {},
   "outputs": [],
   "source": [
    "normal_21  = pd.read_csv('21년보통.csv')\n",
    "normal_22 = pd.read_csv(\"22년보통.csv\")\n",
    "normal_23 = pd.read_csv(\"23년보통.csv\")"
   ]
  },
  {
   "cell_type": "code",
   "execution_count": 33,
   "id": "7ac03372-97c0-4e4c-9b99-c1fc595cd969",
   "metadata": {},
   "outputs": [],
   "source": [
    "df_normal = pd.concat([normal_21, normal_22, normal_23])\n",
    "df_normal = df_normal.groupby('단어', as_index=False)['빈도'].sum().sort_values(by='빈도', ascending=False)"
   ]
  },
  {
   "cell_type": "code",
   "execution_count": 34,
   "id": "3a42d485-63ec-494f-b904-72c6bda1b1b1",
   "metadata": {},
   "outputs": [],
   "source": [
    "df_normal.to_csv('보통업종빈도.csv', encoding='utf-8', index=False)"
   ]
  },
  {
   "cell_type": "code",
   "execution_count": null,
   "id": "d1ef2975-fd1d-410c-9dac-4b231e85bbc8",
   "metadata": {},
   "outputs": [],
   "source": []
  }
 ],
 "metadata": {
  "kernelspec": {
   "display_name": "Python 3 (ipykernel)",
   "language": "python",
   "name": "python3"
  },
  "language_info": {
   "codemirror_mode": {
    "name": "ipython",
    "version": 3
   },
   "file_extension": ".py",
   "mimetype": "text/x-python",
   "name": "python",
   "nbconvert_exporter": "python",
   "pygments_lexer": "ipython3",
   "version": "3.11.7"
  }
 },
 "nbformat": 4,
 "nbformat_minor": 5
}
