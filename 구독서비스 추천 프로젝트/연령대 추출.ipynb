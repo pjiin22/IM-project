{
 "cells": [
  {
   "cell_type": "code",
   "execution_count": 1,
   "id": "facc5fdf-bde3-42e5-a937-2bbc1bb16b36",
   "metadata": {},
   "outputs": [],
   "source": [
    "import dask.dataframe as dd\n",
    "import pandas as pd"
   ]
  },
  {
   "cell_type": "code",
   "execution_count": 2,
   "id": "040dcd0c-a146-42ff-ab2c-7116a1efcd44",
   "metadata": {},
   "outputs": [],
   "source": [
    "data21 = dd.read_csv(r'훈련생 전달용\\iMBANK_CUSTOMER_DATA(K-DigitalTraining)\\iMBANK_CUSTOMER_DATA_2021(K-DigitalTraining).csv', encoding = 'cp949')\n",
    "data22 = dd.read_csv(r'훈련생 전달용\\iMBANK_CUSTOMER_DATA(K-DigitalTraining)\\iMBANK_CUSTOMER_DATA_2022(K-DigitalTraining).csv', encoding = 'cp949')\n",
    "data23 = dd.read_csv(r'훈련생 전달용\\iMBANK_CUSTOMER_DATA(K-DigitalTraining)\\iMBANK_CUSTOMER_DATA_2023(K-DigitalTraining).csv', encoding = 'cp949')"
   ]
  },
  {
   "cell_type": "code",
   "execution_count": 3,
   "id": "bb556ec5-fb0d-4d7f-a449-441250355c69",
   "metadata": {},
   "outputs": [],
   "source": [
    "df4 = data21.compute()"
   ]
  },
  {
   "cell_type": "code",
   "execution_count": 8,
   "id": "a589bb3e-966a-4c7f-9420-3022e23f660d",
   "metadata": {},
   "outputs": [],
   "source": [
    "df5 = data22.compute()"
   ]
  },
  {
   "cell_type": "code",
   "execution_count": 6,
   "id": "12a6c50d-53a1-44f6-9808-cfb8d1fa39a3",
   "metadata": {},
   "outputs": [],
   "source": [
    "df6 = data23.compute()"
   ]
  },
  {
   "cell_type": "code",
   "execution_count": 4,
   "id": "477cef23-eba2-4edc-b9ea-dc4a0698420c",
   "metadata": {},
   "outputs": [
    {
     "data": {
      "text/plain": [
       "Index(['기준년월', '고객ID', '연령대', '성별', '고객등급', '자택_시도', '자택_시군구', '수신_요구불예금',\n",
       "       '수신_거치식예금', '수신_적립식예금', '수신_펀드', '수신_외화예금', '대출금액'],\n",
       "      dtype='object')"
      ]
     },
     "execution_count": 4,
     "metadata": {},
     "output_type": "execute_result"
    }
   ],
   "source": [
    "df4.columns"
   ]
  },
  {
   "cell_type": "code",
   "execution_count": 5,
   "id": "1a83eaa7-5e70-487c-a087-43385a0056c4",
   "metadata": {},
   "outputs": [],
   "source": [
    "df4 = df4[['고객ID','연령대']]"
   ]
  },
  {
   "cell_type": "code",
   "execution_count": 9,
   "id": "b9e01bef-00fd-4249-a33e-375f28bd919c",
   "metadata": {},
   "outputs": [],
   "source": [
    "df5 = df5[['고객ID','연령대']]"
   ]
  },
  {
   "cell_type": "code",
   "execution_count": 7,
   "id": "26452276-515b-4ae9-848c-ccc06ab690e3",
   "metadata": {},
   "outputs": [],
   "source": [
    "df6 = df6[['고객ID','연령대']]"
   ]
  },
  {
   "cell_type": "code",
   "execution_count": 11,
   "id": "9a3726f4-ea16-4250-b202-a458a26d7385",
   "metadata": {},
   "outputs": [],
   "source": [
    "# 5에서 df6에 없는 고객ID 가져와서 df6에 추가\n",
    "missing_in_df6_from_5 = df5[~df5['고객ID'].isin(df6['고객ID'])].copy()  # .copy()로 복사본 생성\n",
    "df6_updated = pd.concat([df6, missing_in_df6_from_5], ignore_index=True)  # df6에 추가\n",
    "\n",
    "# 4에서 df6 + df5에 없는 고객ID 가져와서 추가\n",
    "missing_in_df6_and_5_from_4 = df4[~df4['고객ID'].isin(df6_updated['고객ID'])].copy()  # .copy()로 복사본 생성\n",
    "df6_final = pd.concat([df6_updated, missing_in_df6_and_5_from_4], ignore_index=True)  # 최종 업데이트\n",
    "\n",
    "# 출처 정보 추가\n",
    "df6['source'] = 'df6'  # 기본 데이터에 출처 정보 추가\n",
    "missing_in_df6_from_5.loc[:, 'source'] = 'df5'  # 복사본에 열 추가\n",
    "missing_in_df6_and_5_from_4.loc[:, 'source'] = 'df4'  # 복사본에 열 추가\n",
    "\n",
    "# 모든 데이터를 병합\n",
    "df6_final = pd.concat([df6, missing_in_df6_from_5, missing_in_df6_and_5_from_4], ignore_index=True)\n",
    "\n",
    "# 중복 제거 로직 (df6의 데이터를 우선 유지)\n",
    "df6_final = df6_final.sort_values(by='source', key=lambda col: col.map({'df6': 0, 'df5': 1, 'df4': 2})).drop_duplicates(subset='고객ID', keep='first').reset_index(drop=True)\n",
    "\n",
    "# 출처 정보 삭제 (원하지 않을 경우)\n",
    "df6_final = df6_final.drop(columns=['source'])"
   ]
  },
  {
   "cell_type": "code",
   "execution_count": 13,
   "id": "8f6df14b-fb48-414d-9b5e-5f7ddeeea8df",
   "metadata": {},
   "outputs": [
    {
     "data": {
      "text/html": [
       "<div>\n",
       "<style scoped>\n",
       "    .dataframe tbody tr th:only-of-type {\n",
       "        vertical-align: middle;\n",
       "    }\n",
       "\n",
       "    .dataframe tbody tr th {\n",
       "        vertical-align: top;\n",
       "    }\n",
       "\n",
       "    .dataframe thead th {\n",
       "        text-align: right;\n",
       "    }\n",
       "</style>\n",
       "<table border=\"1\" class=\"dataframe\">\n",
       "  <thead>\n",
       "    <tr style=\"text-align: right;\">\n",
       "      <th></th>\n",
       "      <th>고객ID</th>\n",
       "      <th>연령대</th>\n",
       "    </tr>\n",
       "  </thead>\n",
       "  <tbody>\n",
       "    <tr>\n",
       "      <th>0</th>\n",
       "      <td>9999998161</td>\n",
       "      <td>60대이상</td>\n",
       "    </tr>\n",
       "    <tr>\n",
       "      <th>1</th>\n",
       "      <td>2972734318</td>\n",
       "      <td>10대미만</td>\n",
       "    </tr>\n",
       "    <tr>\n",
       "      <th>2</th>\n",
       "      <td>2972735594</td>\n",
       "      <td>60대이상</td>\n",
       "    </tr>\n",
       "    <tr>\n",
       "      <th>3</th>\n",
       "      <td>2972737061</td>\n",
       "      <td>60대이상</td>\n",
       "    </tr>\n",
       "    <tr>\n",
       "      <th>4</th>\n",
       "      <td>2972737585</td>\n",
       "      <td>30대</td>\n",
       "    </tr>\n",
       "    <tr>\n",
       "      <th>...</th>\n",
       "      <td>...</td>\n",
       "      <td>...</td>\n",
       "    </tr>\n",
       "    <tr>\n",
       "      <th>1999995</th>\n",
       "      <td>7795570273</td>\n",
       "      <td>50대</td>\n",
       "    </tr>\n",
       "    <tr>\n",
       "      <th>1999996</th>\n",
       "      <td>8661592297</td>\n",
       "      <td>50대</td>\n",
       "    </tr>\n",
       "    <tr>\n",
       "      <th>1999997</th>\n",
       "      <td>8378344508</td>\n",
       "      <td>50대</td>\n",
       "    </tr>\n",
       "    <tr>\n",
       "      <th>1999998</th>\n",
       "      <td>8403082734</td>\n",
       "      <td>50대</td>\n",
       "    </tr>\n",
       "    <tr>\n",
       "      <th>1999999</th>\n",
       "      <td>8464697561</td>\n",
       "      <td>60대이상</td>\n",
       "    </tr>\n",
       "  </tbody>\n",
       "</table>\n",
       "<p>2000000 rows × 2 columns</p>\n",
       "</div>"
      ],
      "text/plain": [
       "               고객ID    연령대\n",
       "0        9999998161  60대이상\n",
       "1        2972734318  10대미만\n",
       "2        2972735594  60대이상\n",
       "3        2972737061  60대이상\n",
       "4        2972737585    30대\n",
       "...             ...    ...\n",
       "1999995  7795570273    50대\n",
       "1999996  8661592297    50대\n",
       "1999997  8378344508    50대\n",
       "1999998  8403082734    50대\n",
       "1999999  8464697561  60대이상\n",
       "\n",
       "[2000000 rows x 2 columns]"
      ]
     },
     "execution_count": 13,
     "metadata": {},
     "output_type": "execute_result"
    }
   ],
   "source": [
    "df = df6_final\n",
    "df"
   ]
  },
  {
   "cell_type": "code",
   "execution_count": 14,
   "id": "b4d43b5e-90d4-45ac-a579-3d4f340a07a9",
   "metadata": {},
   "outputs": [],
   "source": [
    "df['연령대'] = df['연령대'].astype(str).str[:2]  # 앞 두 글자 추출\n",
    "df['연령대'] = pd.to_numeric(df['연령대'], errors='coerce').astype('Int64')  # 숫자로 변환 및 결측값 처리"
   ]
  },
  {
   "cell_type": "code",
   "execution_count": 15,
   "id": "55743aa3-093f-4d12-8064-aa6114fb9ea9",
   "metadata": {},
   "outputs": [
    {
     "data": {
      "text/html": [
       "<div>\n",
       "<style scoped>\n",
       "    .dataframe tbody tr th:only-of-type {\n",
       "        vertical-align: middle;\n",
       "    }\n",
       "\n",
       "    .dataframe tbody tr th {\n",
       "        vertical-align: top;\n",
       "    }\n",
       "\n",
       "    .dataframe thead th {\n",
       "        text-align: right;\n",
       "    }\n",
       "</style>\n",
       "<table border=\"1\" class=\"dataframe\">\n",
       "  <thead>\n",
       "    <tr style=\"text-align: right;\">\n",
       "      <th></th>\n",
       "      <th>고객ID</th>\n",
       "      <th>연령대</th>\n",
       "    </tr>\n",
       "  </thead>\n",
       "  <tbody>\n",
       "    <tr>\n",
       "      <th>0</th>\n",
       "      <td>9999998161</td>\n",
       "      <td>60</td>\n",
       "    </tr>\n",
       "    <tr>\n",
       "      <th>1</th>\n",
       "      <td>2972734318</td>\n",
       "      <td>10</td>\n",
       "    </tr>\n",
       "    <tr>\n",
       "      <th>2</th>\n",
       "      <td>2972735594</td>\n",
       "      <td>60</td>\n",
       "    </tr>\n",
       "    <tr>\n",
       "      <th>3</th>\n",
       "      <td>2972737061</td>\n",
       "      <td>60</td>\n",
       "    </tr>\n",
       "    <tr>\n",
       "      <th>4</th>\n",
       "      <td>2972737585</td>\n",
       "      <td>30</td>\n",
       "    </tr>\n",
       "    <tr>\n",
       "      <th>...</th>\n",
       "      <td>...</td>\n",
       "      <td>...</td>\n",
       "    </tr>\n",
       "    <tr>\n",
       "      <th>1999995</th>\n",
       "      <td>7795570273</td>\n",
       "      <td>50</td>\n",
       "    </tr>\n",
       "    <tr>\n",
       "      <th>1999996</th>\n",
       "      <td>8661592297</td>\n",
       "      <td>50</td>\n",
       "    </tr>\n",
       "    <tr>\n",
       "      <th>1999997</th>\n",
       "      <td>8378344508</td>\n",
       "      <td>50</td>\n",
       "    </tr>\n",
       "    <tr>\n",
       "      <th>1999998</th>\n",
       "      <td>8403082734</td>\n",
       "      <td>50</td>\n",
       "    </tr>\n",
       "    <tr>\n",
       "      <th>1999999</th>\n",
       "      <td>8464697561</td>\n",
       "      <td>60</td>\n",
       "    </tr>\n",
       "  </tbody>\n",
       "</table>\n",
       "<p>2000000 rows × 2 columns</p>\n",
       "</div>"
      ],
      "text/plain": [
       "               고객ID  연령대\n",
       "0        9999998161   60\n",
       "1        2972734318   10\n",
       "2        2972735594   60\n",
       "3        2972737061   60\n",
       "4        2972737585   30\n",
       "...             ...  ...\n",
       "1999995  7795570273   50\n",
       "1999996  8661592297   50\n",
       "1999997  8378344508   50\n",
       "1999998  8403082734   50\n",
       "1999999  8464697561   60\n",
       "\n",
       "[2000000 rows x 2 columns]"
      ]
     },
     "execution_count": 15,
     "metadata": {},
     "output_type": "execute_result"
    }
   ],
   "source": [
    "df"
   ]
  },
  {
   "cell_type": "code",
   "execution_count": 16,
   "id": "80bace4d-87c1-4cc4-8433-82c63a9df7b4",
   "metadata": {},
   "outputs": [],
   "source": [
    "df.to_csv('age.csv', encoding='utf-8', index=False)"
   ]
  },
  {
   "cell_type": "code",
   "execution_count": null,
   "id": "98def6a2-b5da-465d-a6bb-2e6f37438860",
   "metadata": {},
   "outputs": [],
   "source": []
  }
 ],
 "metadata": {
  "kernelspec": {
   "display_name": "Python 3 (ipykernel)",
   "language": "python",
   "name": "python3"
  },
  "language_info": {
   "codemirror_mode": {
    "name": "ipython",
    "version": 3
   },
   "file_extension": ".py",
   "mimetype": "text/x-python",
   "name": "python",
   "nbconvert_exporter": "python",
   "pygments_lexer": "ipython3",
   "version": "3.11.7"
  }
 },
 "nbformat": 4,
 "nbformat_minor": 5
}
