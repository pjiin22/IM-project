{
 "cells": [
  {
   "cell_type": "code",
   "execution_count": 31,
   "id": "b90268a4-d5a5-4bd6-a628-093610b4be41",
   "metadata": {},
   "outputs": [],
   "source": [
    "import pandas as pd\n",
    "from scipy.stats import ttest_ind"
   ]
  },
  {
   "cell_type": "code",
   "execution_count": 32,
   "id": "4baf29f2-09e1-462f-86f2-041a05beef43",
   "metadata": {},
   "outputs": [],
   "source": [
    "main_data = pd.read_csv('주거래.csv')  \n",
    "sub_data = pd.read_csv('부거래.csv')"
   ]
  },
  {
   "cell_type": "code",
   "execution_count": 33,
   "id": "1be9973f-099f-4957-bc10-b6ebc798cd09",
   "metadata": {},
   "outputs": [
    {
     "data": {
      "text/plain": [
       "Index(['고객ID', '월평균 거래건수', '최다가맹점업종명', '업종다양성지수', '거래 밀도 지수', '거래활동기간',\n",
       "       '거래 연속성 비율', '총거래건수'],\n",
       "      dtype='object')"
      ]
     },
     "execution_count": 33,
     "metadata": {},
     "output_type": "execute_result"
    }
   ],
   "source": [
    "sub_data.columns"
   ]
  },
  {
   "cell_type": "code",
   "execution_count": 34,
   "id": "63b4ae8d-787f-4abd-abec-1628647f5a28",
   "metadata": {},
   "outputs": [],
   "source": [
    "variables = ['월평균 거래건수', '최다가맹점업종명', '업종다양성지수', '거래 밀도 지수', '거래활동기간',\n",
    "       '거래 연속성 비율', '총거래건수']"
   ]
  },
  {
   "cell_type": "code",
   "execution_count": 35,
   "id": "012e5498-97eb-4de0-a71b-d968a0260a27",
   "metadata": {},
   "outputs": [
    {
     "name": "stdout",
     "output_type": "stream",
     "text": [
      "<class 'pandas.core.frame.DataFrame'>\n",
      "RangeIndex: 56 entries, 0 to 55\n",
      "Data columns (total 8 columns):\n",
      " #   Column     Non-Null Count  Dtype  \n",
      "---  ------     --------------  -----  \n",
      " 0   고객ID       56 non-null     int64  \n",
      " 1   월평균 거래건수   56 non-null     int64  \n",
      " 2   최다가맹점업종명   56 non-null     object \n",
      " 3   업종다양성지수    56 non-null     int64  \n",
      " 4   거래 밀도 지수   56 non-null     float64\n",
      " 5   거래활동기간     56 non-null     int64  \n",
      " 6   거래 연속성 비율  56 non-null     int64  \n",
      " 7   총거래건수      56 non-null     int64  \n",
      "dtypes: float64(1), int64(6), object(1)\n",
      "memory usage: 3.6+ KB\n"
     ]
    }
   ],
   "source": [
    "sub_data.info()"
   ]
  },
  {
   "cell_type": "code",
   "execution_count": 39,
   "id": "b22fd8d9-a8a5-4cb9-a26f-a5b75de5ec1c",
   "metadata": {},
   "outputs": [],
   "source": [
    "for col in main_data.select_dtypes(include=['object']).columns:\n",
    "    main_data[col] = pd.to_numeric(main_data[col], errors='coerce').astype('Int64')"
   ]
  },
  {
   "cell_type": "code",
   "execution_count": 40,
   "id": "1533ce2f-664b-4ef3-8974-b8fc63ecbde4",
   "metadata": {},
   "outputs": [],
   "source": [
    "for col in sub_data.select_dtypes(include=['object']).columns:\n",
    "    sub_data[col] = pd.to_numeric(sub_data[col], errors='coerce').astype('Int64')"
   ]
  },
  {
   "cell_type": "code",
   "execution_count": 41,
   "id": "23f2009d-8d43-48af-b07b-766b0f5553e2",
   "metadata": {},
   "outputs": [],
   "source": [
    "results = {}\n",
    "for var in variables:\n",
    "    t_stat, p_value = ttest_ind(main_data[var], sub_data[var], equal_var=False) \n",
    "    results[var] = {'t-statistic': t_stat, 'p-value': p_value}"
   ]
  },
  {
   "cell_type": "code",
   "execution_count": 42,
   "id": "86e4f10a-3f56-460b-bbcf-0f2d109f838e",
   "metadata": {},
   "outputs": [
    {
     "name": "stdout",
     "output_type": "stream",
     "text": [
      "Variable: 월평균 거래건수\n",
      "  T-statistic: 29.5688\n",
      "  P-value: 0.0000\n",
      "  Result: Statistically significant difference between groups (p < 0.05)\n",
      "Variable: 최다가맹점업종명\n",
      "  T-statistic: nan\n",
      "  P-value: nan\n",
      "  Result: No statistically significant difference between groups (p ≥ 0.05)\n",
      "Variable: 업종다양성지수\n",
      "  T-statistic: 588.3957\n",
      "  P-value: 0.0000\n",
      "  Result: Statistically significant difference between groups (p < 0.05)\n",
      "Variable: 거래 밀도 지수\n",
      "  T-statistic: 29.5876\n",
      "  P-value: 0.0000\n",
      "  Result: Statistically significant difference between groups (p < 0.05)\n",
      "Variable: 거래활동기간\n",
      "  T-statistic: 3.6978\n",
      "  P-value: 0.0005\n",
      "  Result: Statistically significant difference between groups (p < 0.05)\n",
      "Variable: 거래 연속성 비율\n",
      "  T-statistic: 1.8767\n",
      "  P-value: 0.0659\n",
      "  Result: No statistically significant difference between groups (p ≥ 0.05)\n",
      "Variable: 총거래건수\n",
      "  T-statistic: 31.6488\n",
      "  P-value: 0.0000\n",
      "  Result: Statistically significant difference between groups (p < 0.05)\n"
     ]
    }
   ],
   "source": [
    "for var, stats in results.items():\n",
    "    print(f\"Variable: {var}\")\n",
    "    print(f\"  T-statistic: {stats['t-statistic']:.4f}\")\n",
    "    print(f\"  P-value: {stats['p-value']:.4f}\")\n",
    "    if stats['p-value'] < 0.05:\n",
    "        print(f\"  Result: Statistically significant difference between groups (p < 0.05)\")\n",
    "    else:\n",
    "        print(f\"  Result: No statistically significant difference between groups (p ≥ 0.05)\")"
   ]
  },
  {
   "cell_type": "code",
   "execution_count": null,
   "id": "4e7dee94-40d5-4381-a82d-e6004bd279db",
   "metadata": {},
   "outputs": [],
   "source": []
  }
 ],
 "metadata": {
  "kernelspec": {
   "display_name": "Python 3 (ipykernel)",
   "language": "python",
   "name": "python3"
  },
  "language_info": {
   "codemirror_mode": {
    "name": "ipython",
    "version": 3
   },
   "file_extension": ".py",
   "mimetype": "text/x-python",
   "name": "python",
   "nbconvert_exporter": "python",
   "pygments_lexer": "ipython3",
   "version": "3.11.7"
  }
 },
 "nbformat": 4,
 "nbformat_minor": 5
}
