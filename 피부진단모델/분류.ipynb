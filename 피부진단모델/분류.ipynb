{
 "cells": [
  {
   "cell_type": "code",
   "execution_count": 24,
   "id": "d6f7bf72-230b-47f6-8548-af30eb7d0351",
   "metadata": {},
   "outputs": [
    {
     "name": "stdout",
     "output_type": "stream",
     "text": [
      "File Name: 0002_03_F.jpg, Age: 50, bbox: [0, 0, 1920, 2560]\n",
      "File Name: 0002_03_F.jpg, Age: 50, bbox: [788, 691, 1510, 1005]\n",
      "File Name: 0002_03_F.jpg, Age: 50, bbox: [1029, 1002, 1258, 1212]\n",
      "File Name: 0002_03_F.jpg, Age: 50, bbox: [600, 1141, 727, 1410]\n",
      "File Name: 0002_03_F.jpg, Age: 50, bbox: [1539, 1094, 1618, 1406]\n",
      "File Name: 0002_03_F.jpg, Age: 50, bbox: [696, 1341, 991, 1752]\n",
      "File Name: 0002_03_F.jpg, Age: 50, bbox: [1319, 1322, 1548, 1732]\n",
      "File Name: 0002_03_F.jpg, Age: 50, bbox: [973, 1801, 1362, 1952]\n",
      "File Name: 0002_03_F.jpg, Age: 50, bbox: [748, 1864, 1496, 2121]\n",
      "File Name: 0002_03_L.jpg, Age: 50, bbox: [0, 0, 1920, 2560]\n",
      "File Name: 0002_03_L.jpg, Age: 50, bbox: [766, 644, 1228, 924]\n",
      "File Name: 0002_03_L.jpg, Age: 50, bbox: [692, 927, 811, 1155]\n",
      "File Name: 0002_03_L.jpg, Age: 50, bbox: None\n",
      "File Name: 0002_03_L.jpg, Age: 50, bbox: [1201, 1037, 1436, 1350]\n",
      "File Name: 0002_03_L.jpg, Age: 50, bbox: [595, 1244, 638, 1462]\n",
      "File Name: 0002_03_L.jpg, Age: 50, bbox: [892, 1242, 1376, 1654]\n",
      "File Name: 0002_03_L.jpg, Age: 50, bbox: [641, 1643, 951, 1826]\n",
      "File Name: 0002_03_L.jpg, Age: 50, bbox: [655, 1726, 1474, 2031]\n",
      "File Name: 0002_03_R.jpg, Age: 50, bbox: [0, 0, 1920, 2560]\n",
      "File Name: 0002_03_R.jpg, Age: 50, bbox: [1156, 670, 1718, 959]\n",
      "File Name: 0002_03_R.jpg, Age: 50, bbox: [1609, 958, 1738, 1182]\n",
      "File Name: 0002_03_R.jpg, Age: 50, bbox: [969, 1074, 1227, 1402]\n",
      "File Name: 0002_03_R.jpg, Age: 50, bbox: None\n",
      "File Name: 0002_03_R.jpg, Age: 50, bbox: [1031, 1301, 1503, 1754]\n",
      "File Name: 0002_03_R.jpg, Age: 50, bbox: [1780, 1275, 1823, 1462]\n",
      "File Name: 0002_03_R.jpg, Age: 50, bbox: [1465, 1714, 1767, 1892]\n",
      "File Name: 0002_03_R.jpg, Age: 50, bbox: [957, 1778, 1724, 2067]\n"
     ]
    }
   ],
   "source": [
    "import os\n",
    "import json\n",
    "\n",
    "# Define the folder containing the JSON files\n",
    "folder_path = \"C://Users/campus4D044/피부이미지분류/json/0002\"\n",
    "\n",
    "# Loop through all files in the folder\n",
    "for filename in os.listdir(folder_path):\n",
    "    if filename.endswith('.json'):  # Check if the file is a JSON file\n",
    "        file_path = os.path.join(folder_path, filename)  # Get the full file path\n",
    "\n",
    "        # Open and load the JSON file\n",
    "        try:\n",
    "            with open(file_path, 'r') as f:\n",
    "                data = json.load(f)\n",
    "\n",
    "            # Extract and print the file name, age, and bbox\n",
    "            file_name = data.get('info', {}).get('filename', 'Unknown')\n",
    "            age = data.get('info', {}).get('age', 'Unknown')\n",
    "            bbox = data.get('images', {}).get('bbox', 'No bbox')\n",
    "\n",
    "            print(f\"File Name: {file_name}, Age: {age}, bbox: {bbox}\")\n",
    "\n",
    "        except json.JSONDecodeError:\n",
    "            print(f\"Error decoding JSON from file: {filename}\")\n",
    "        except FileNotFoundError:\n",
    "            print(f\"File not found: {file_path}\")\n",
    "        except KeyError as e:\n",
    "            print(f\"Missing key in file {filename}: {e}\")\n",
    "        except Exception as e:\n",
    "            print(f\"An unexpected error occurred: {str(e)}\")"
   ]
  },
  {
   "cell_type": "code",
   "execution_count": null,
   "id": "7b31915d-0773-44bb-b60a-1b2e79024b32",
   "metadata": {},
   "outputs": [],
   "source": []
  }
 ],
 "metadata": {
  "kernelspec": {
   "display_name": "Python 3 (ipykernel)",
   "language": "python",
   "name": "python3"
  },
  "language_info": {
   "codemirror_mode": {
    "name": "ipython",
    "version": 3
   },
   "file_extension": ".py",
   "mimetype": "text/x-python",
   "name": "python",
   "nbconvert_exporter": "python",
   "pygments_lexer": "ipython3",
   "version": "3.11.7"
  }
 },
 "nbformat": 4,
 "nbformat_minor": 5
}
